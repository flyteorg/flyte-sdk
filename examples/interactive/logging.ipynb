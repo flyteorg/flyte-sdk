{
 "cells": [
  {
   "cell_type": "code",
   "execution_count": 1,
   "id": "09ebf6e8-a810-41a8-a254-081cfdb17584",
   "metadata": {},
   "outputs": [],
   "source": [
    "import flyte\n",
    "import flyte.remote as remote\n",
    "\n",
    "import asyncio\n",
    "from typing import List"
   ]
  },
  {
   "cell_type": "code",
   "execution_count": 2,
   "id": "37618f8c-cb7a-4069-b1d8-08f63f938a0b",
   "metadata": {},
   "outputs": [],
   "source": [
    "flyte.init_from_config(\"../../config.yaml\")"
   ]
  },
  {
   "cell_type": "code",
   "execution_count": 7,
   "id": "d4a1f67b-97d4-4094-b7e9-82a7b014ff4b",
   "metadata": {},
   "outputs": [],
   "source": [
    "env = flyte.TaskEnvironment(\n",
    "    name=\"env\",\n",
    "    image=flyte.Image\n",
    "        .from_debian_base()\n",
    "        # .with_pip_packages(\"pandas\", \"requests\"),\n",
    ")"
   ]
  },
  {
   "cell_type": "code",
   "execution_count": 8,
   "id": "c0a1c16b-26f4-44b2-939a-df9abcb7a71e",
   "metadata": {},
   "outputs": [],
   "source": [
    "@env.task()\n",
    "async def hello_worker(id: int) -> str:\n",
    "    print(f\"hello, my id is: {id} and I am being run by Action: {flyte.ctx().action}\")\n",
    "    return str(id)\n"
   ]
  },
  {
   "cell_type": "code",
   "execution_count": 9,
   "id": "cb9f9cc9-8667-46c4-abd3-555cb8a075d4",
   "metadata": {},
   "outputs": [],
   "source": [
    "@env.task()\n",
    "async def hello_driver(ids: List[int] = [1, 2, 3]) -> List[str]:\n",
    "    coros = []\n",
    "    with flyte.group(\"fanout-group\"):\n",
    "        for id in ids:\n",
    "            coros.append(hello_worker(id))\n",
    "            print(f\"working with id: {id}\")\n",
    "\n",
    "        vals = await asyncio.gather(*coros)\n",
    "\n",
    "    return vals"
   ]
  },
  {
   "cell_type": "code",
   "execution_count": 10,
   "id": "cbf06ba1-9a8f-419e-b823-bcfed8cd2cbe",
   "metadata": {},
   "outputs": [
    {
     "data": {
      "text/html": [
       "<pre style=\"white-space:pre;overflow-x:auto;line-height:normal;font-family:Menlo,'DejaVu Sans Mono',consolas,'Courier New',monospace\"><span style=\"color: #7fbfbf; text-decoration-color: #7fbfbf\">10:16:21.784076 </span><span style=\"color: #808000; text-decoration-color: #808000\">WARNING </span> remote_builder.py:<span style=\"color: #008080; text-decoration-color: #008080; font-weight: bold\">88</span> - <span style=\"font-weight: bold\">[</span>flyte<span style=\"font-weight: bold\">]</span> \u001b<span style=\"font-weight: bold\">[</span>34mImage <span style=\"color: #008080; text-decoration-color: #008080; font-weight: bold\">356633062068.</span>dkr.ecr.us-east-<span style=\"color: #008080; text-decoration-color: #008080; font-weight: bold\">2.</span>amazonaws.com/union/demo:flyte-py3.<span style=\"color: #008080; text-decoration-color: #008080; font-weight: bold\">12</span>-v2.<span style=\"color: #008080; text-decoration-color: #008080; font-weight: bold\">0.</span>0b18 found. Skip    \n",
       "<span style=\"color: #7fbfbf; text-decoration-color: #7fbfbf\">                </span>         building.\u001b<span style=\"font-weight: bold\">[</span>0m                                                                                                                           \n",
       "</pre>\n"
      ],
      "text/plain": [
       "\u001b[2;36m10:16:21.784076\u001b[0m\u001b[2;36m \u001b[0m\u001b[33mWARNING \u001b[0m remote_builder.py:\u001b[1;36m88\u001b[0m - \u001b[1m[\u001b[0mflyte\u001b[1m]\u001b[0m \u001b\u001b[1m[\u001b[0m34mImage \u001b[1;36m356633062068.\u001b[0mdkr.ecr.us-east-\u001b[1;36m2.\u001b[0mamazonaws.com/union/demo:flyte-py3.\u001b[1;36m12\u001b[0m-v2.\u001b[1;36m0.\u001b[0m0b18 found. Skip    \n",
       "\u001b[2;36m                \u001b[0m         building.\u001b\u001b[1m[\u001b[0m0m                                                                                                                           \n"
      ]
     },
     "metadata": {},
     "output_type": "display_data"
    },
    {
     "data": {
      "text/html": [
       "<pre style=\"white-space:pre;overflow-x:auto;line-height:normal;font-family:Menlo,'DejaVu Sans Mono',consolas,'Courier New',monospace\"><span style=\"color: #7fbfbf; text-decoration-color: #7fbfbf\">10:16:21.778617 </span><span style=\"color: #800000; text-decoration-color: #800000; font-weight: bold\">ERROR   </span> base_events.py:<span style=\"color: #008080; text-decoration-color: #008080; font-weight: bold\">1785</span> - Exception in callback <span style=\"color: #800080; text-decoration-color: #800080; font-weight: bold\">PollerCompletionQueue._handle_events</span><span style=\"font-weight: bold\">(&lt;</span><span style=\"color: #ff00ff; text-decoration-color: #ff00ff; font-weight: bold\">_UnixSelecto</span><span style=\"color: #808000; text-decoration-color: #808000; font-weight: bold\">...</span><span style=\"color: #ff00ff; text-decoration-color: #ff00ff; font-weight: bold\">e</span><span style=\"color: #000000; text-decoration-color: #000000\"> </span><span style=\"color: #808000; text-decoration-color: #808000\">debug</span><span style=\"color: #000000; text-decoration-color: #000000\">=</span><span style=\"color: #ff0000; text-decoration-color: #ff0000; font-style: italic\">False</span><span style=\"color: #000000; text-decoration-color: #000000\">&gt;</span><span style=\"color: #000000; text-decoration-color: #000000; font-weight: bold\">)()</span>                     \n",
       "<span style=\"color: #7fbfbf; text-decoration-color: #7fbfbf\">                </span>         <span style=\"color: #000000; text-decoration-color: #000000\">handle: &lt;Handle </span><span style=\"color: #800080; text-decoration-color: #800080; font-weight: bold\">PollerCompletionQueue._handle_events</span><span style=\"color: #000000; text-decoration-color: #000000; font-weight: bold\">(</span><span style=\"color: #000000; text-decoration-color: #000000\">&lt;_UnixSelecto</span><span style=\"color: #808000; text-decoration-color: #808000\">...</span><span style=\"color: #000000; text-decoration-color: #000000\">e </span><span style=\"color: #808000; text-decoration-color: #808000\">debug</span><span style=\"color: #000000; text-decoration-color: #000000\">=</span><span style=\"color: #ff0000; text-decoration-color: #ff0000; font-style: italic\">False</span><span style=\"color: #000000; text-decoration-color: #000000\">&gt;</span><span style=\"color: #000000; text-decoration-color: #000000; font-weight: bold\">)()</span><span style=\"font-weight: bold\">&gt;</span>                                                \n",
       "<span style=\"color: #7fbfbf; text-decoration-color: #7fbfbf\">                </span>         <span style=\"color: #800000; text-decoration-color: #800000\">╭───────────────────────────────────────────────── </span><span style=\"color: #800000; text-decoration-color: #800000; font-weight: bold\">Traceback </span><span style=\"color: #bf7f7f; text-decoration-color: #bf7f7f; font-weight: bold\">(most recent call last)</span><span style=\"color: #800000; text-decoration-color: #800000\"> ─────────────────────────────────────────────────╮</span>\n",
       "<span style=\"color: #7fbfbf; text-decoration-color: #7fbfbf\">                </span>         <span style=\"color: #800000; text-decoration-color: #800000\">│</span> <span style=\"color: #7f7f7f; text-decoration-color: #7f7f7f\">/Users/johnvotta/.local/share/uv/python/cpython-3.12.0-macos-aarch64-none/lib/python3.12/asyncio/</span><span style=\"font-weight: bold\">events.py</span>:84 in _run               <span style=\"color: #800000; text-decoration-color: #800000\">│</span>\n",
       "<span style=\"color: #7fbfbf; text-decoration-color: #7fbfbf\">                </span>         <span style=\"color: #800000; text-decoration-color: #800000\">│</span>                                                                                                                                     <span style=\"color: #800000; text-decoration-color: #800000\">│</span>\n",
       "<span style=\"color: #7fbfbf; text-decoration-color: #7fbfbf\">                </span>         <span style=\"color: #800000; text-decoration-color: #800000\">│</span>   <span style=\"color: #7f7f7f; text-decoration-color: #7f7f7f\"> 81 </span><span style=\"color: #7f7f7f; text-decoration-color: #7f7f7f\">│   </span>                                                                                                                          <span style=\"color: #800000; text-decoration-color: #800000\">│</span>\n",
       "<span style=\"color: #7fbfbf; text-decoration-color: #7fbfbf\">                </span>         <span style=\"color: #800000; text-decoration-color: #800000\">│</span>   <span style=\"color: #7f7f7f; text-decoration-color: #7f7f7f\"> 82 </span><span style=\"color: #7f7f7f; text-decoration-color: #7f7f7f\">│   </span><span style=\"color: #0000ff; text-decoration-color: #0000ff\">def</span><span style=\"color: #808080; text-decoration-color: #808080\"> </span><span style=\"color: #00ff00; text-decoration-color: #00ff00\">_run</span>(<span style=\"color: #00ffff; text-decoration-color: #00ffff\">self</span>):                                                                                                           <span style=\"color: #800000; text-decoration-color: #800000\">│</span>\n",
       "<span style=\"color: #7fbfbf; text-decoration-color: #7fbfbf\">                </span>         <span style=\"color: #800000; text-decoration-color: #800000\">│</span>   <span style=\"color: #7f7f7f; text-decoration-color: #7f7f7f\"> 83 </span><span style=\"color: #7f7f7f; text-decoration-color: #7f7f7f\">│   │   </span><span style=\"color: #0000ff; text-decoration-color: #0000ff\">try</span>:                                                                                                                  <span style=\"color: #800000; text-decoration-color: #800000\">│</span>\n",
       "<span style=\"color: #7fbfbf; text-decoration-color: #7fbfbf\">                </span>         <span style=\"color: #800000; text-decoration-color: #800000\">│</span> <span style=\"color: #800000; text-decoration-color: #800000\">❱ </span> 84 <span style=\"color: #7f7f7f; text-decoration-color: #7f7f7f\">│   │   │   </span><span style=\"color: #00ffff; text-decoration-color: #00ffff\">self</span>._context.run(<span style=\"color: #00ffff; text-decoration-color: #00ffff\">self</span>._callback, *<span style=\"color: #00ffff; text-decoration-color: #00ffff\">self</span>._args)                                                                    <span style=\"color: #800000; text-decoration-color: #800000\">│</span>\n",
       "<span style=\"color: #7fbfbf; text-decoration-color: #7fbfbf\">                </span>         <span style=\"color: #800000; text-decoration-color: #800000\">│</span>   <span style=\"color: #7f7f7f; text-decoration-color: #7f7f7f\"> 85 </span><span style=\"color: #7f7f7f; text-decoration-color: #7f7f7f\">│   │   </span><span style=\"color: #0000ff; text-decoration-color: #0000ff\">except</span> (<span style=\"color: #00ffff; text-decoration-color: #00ffff\">SystemExit</span>, <span style=\"color: #00ffff; text-decoration-color: #00ffff\">KeyboardInterrupt</span>):                                                                               <span style=\"color: #800000; text-decoration-color: #800000\">│</span>\n",
       "<span style=\"color: #7fbfbf; text-decoration-color: #7fbfbf\">                </span>         <span style=\"color: #800000; text-decoration-color: #800000\">│</span>   <span style=\"color: #7f7f7f; text-decoration-color: #7f7f7f\"> 86 </span><span style=\"color: #7f7f7f; text-decoration-color: #7f7f7f\">│   │   │   </span><span style=\"color: #0000ff; text-decoration-color: #0000ff\">raise</span>                                                                                                             <span style=\"color: #800000; text-decoration-color: #800000\">│</span>\n",
       "<span style=\"color: #7fbfbf; text-decoration-color: #7fbfbf\">                </span>         <span style=\"color: #800000; text-decoration-color: #800000\">│</span>   <span style=\"color: #7f7f7f; text-decoration-color: #7f7f7f\"> 87 </span><span style=\"color: #7f7f7f; text-decoration-color: #7f7f7f\">│   │   </span><span style=\"color: #0000ff; text-decoration-color: #0000ff\">except</span> <span style=\"color: #00ffff; text-decoration-color: #00ffff\">BaseException</span> <span style=\"color: #0000ff; text-decoration-color: #0000ff\">as</span> exc:                                                                                          <span style=\"color: #800000; text-decoration-color: #800000\">│</span>\n",
       "<span style=\"color: #7fbfbf; text-decoration-color: #7fbfbf\">                </span>         <span style=\"color: #800000; text-decoration-color: #800000\">│</span>                                                                                                                                     <span style=\"color: #800000; text-decoration-color: #800000\">│</span>\n",
       "<span style=\"color: #7fbfbf; text-decoration-color: #7fbfbf\">                </span>         <span style=\"color: #800000; text-decoration-color: #800000\">│</span> in grpc._cython.cygrpc.PollerCompletionQueue._handle_events:147                                                                     <span style=\"color: #800000; text-decoration-color: #800000\">│</span>\n",
       "<span style=\"color: #7fbfbf; text-decoration-color: #7fbfbf\">                </span>         <span style=\"color: #800000; text-decoration-color: #800000\">╰─────────────────────────────────────────────────────────────────────────────────────────────────────────────────────────────────────╯</span>\n",
       "<span style=\"color: #7fbfbf; text-decoration-color: #7fbfbf\">                </span>         <span style=\"color: #ff0000; text-decoration-color: #ff0000; font-weight: bold\">BlockingIOError: </span><span style=\"font-weight: bold\">[</span>Errno <span style=\"color: #008080; text-decoration-color: #008080; font-weight: bold\">35</span><span style=\"font-weight: bold\">]</span> Resource temporarily unavailable                                                                           \n",
       "</pre>\n"
      ],
      "text/plain": [
       "\u001b[2;36m10:16:21.778617\u001b[0m\u001b[2;36m \u001b[0m\u001b[1;31mERROR   \u001b[0m base_events.py:\u001b[1;36m1785\u001b[0m - Exception in callback \u001b[1;35mPollerCompletionQueue._handle_events\u001b[0m\u001b[1m(\u001b[0m\u001b[1m<\u001b[0m\u001b[1;95m_UnixSelecto\u001b[0m\u001b[1;33m...\u001b[0m\u001b[1;95me\u001b[0m\u001b[39m \u001b[0m\u001b[33mdebug\u001b[0m\u001b[39m=\u001b[0m\u001b[3;91mFalse\u001b[0m\u001b[39m>\u001b[0m\u001b[1;39m)\u001b[0m\u001b[1;39m(\u001b[0m\u001b[1;39m)\u001b[0m                     \n",
       "\u001b[2;36m                \u001b[0m         \u001b[39mhandle: <Handle \u001b[0m\u001b[1;35mPollerCompletionQueue._handle_events\u001b[0m\u001b[1;39m(\u001b[0m\u001b[39m<_UnixSelecto\u001b[0m\u001b[33m...\u001b[0m\u001b[39me \u001b[0m\u001b[33mdebug\u001b[0m\u001b[39m=\u001b[0m\u001b[3;91mFalse\u001b[0m\u001b[39m>\u001b[0m\u001b[1;39m)\u001b[0m\u001b[1;39m(\u001b[0m\u001b[1;39m)\u001b[0m\u001b[1m>\u001b[0m                                                \n",
       "\u001b[2;36m                \u001b[0m         \u001b[31m╭─\u001b[0m\u001b[31m────────────────────────────────────────────────\u001b[0m\u001b[31m \u001b[0m\u001b[1;31mTraceback \u001b[0m\u001b[1;2;31m(most recent call last)\u001b[0m\u001b[31m \u001b[0m\u001b[31m────────────────────────────────────────────────\u001b[0m\u001b[31m─╮\u001b[0m\n",
       "\u001b[2;36m                \u001b[0m         \u001b[31m│\u001b[0m \u001b[2m/Users/johnvotta/.local/share/uv/python/cpython-3.12.0-macos-aarch64-none/lib/python3.12/asyncio/\u001b[0m\u001b[1mevents.py\u001b[0m:84 in _run               \u001b[31m│\u001b[0m\n",
       "\u001b[2;36m                \u001b[0m         \u001b[31m│\u001b[0m                                                                                                                                     \u001b[31m│\u001b[0m\n",
       "\u001b[2;36m                \u001b[0m         \u001b[31m│\u001b[0m   \u001b[2m 81 \u001b[0m\u001b[2m│   \u001b[0m                                                                                                                          \u001b[31m│\u001b[0m\n",
       "\u001b[2;36m                \u001b[0m         \u001b[31m│\u001b[0m   \u001b[2m 82 \u001b[0m\u001b[2m│   \u001b[0m\u001b[94mdef\u001b[0m\u001b[90m \u001b[0m\u001b[92m_run\u001b[0m(\u001b[96mself\u001b[0m):                                                                                                           \u001b[31m│\u001b[0m\n",
       "\u001b[2;36m                \u001b[0m         \u001b[31m│\u001b[0m   \u001b[2m 83 \u001b[0m\u001b[2m│   │   \u001b[0m\u001b[94mtry\u001b[0m:                                                                                                                  \u001b[31m│\u001b[0m\n",
       "\u001b[2;36m                \u001b[0m         \u001b[31m│\u001b[0m \u001b[31m❱ \u001b[0m 84 \u001b[2m│   │   │   \u001b[0m\u001b[96mself\u001b[0m._context.run(\u001b[96mself\u001b[0m._callback, *\u001b[96mself\u001b[0m._args)                                                                    \u001b[31m│\u001b[0m\n",
       "\u001b[2;36m                \u001b[0m         \u001b[31m│\u001b[0m   \u001b[2m 85 \u001b[0m\u001b[2m│   │   \u001b[0m\u001b[94mexcept\u001b[0m (\u001b[96mSystemExit\u001b[0m, \u001b[96mKeyboardInterrupt\u001b[0m):                                                                               \u001b[31m│\u001b[0m\n",
       "\u001b[2;36m                \u001b[0m         \u001b[31m│\u001b[0m   \u001b[2m 86 \u001b[0m\u001b[2m│   │   │   \u001b[0m\u001b[94mraise\u001b[0m                                                                                                             \u001b[31m│\u001b[0m\n",
       "\u001b[2;36m                \u001b[0m         \u001b[31m│\u001b[0m   \u001b[2m 87 \u001b[0m\u001b[2m│   │   \u001b[0m\u001b[94mexcept\u001b[0m \u001b[96mBaseException\u001b[0m \u001b[94mas\u001b[0m exc:                                                                                          \u001b[31m│\u001b[0m\n",
       "\u001b[2;36m                \u001b[0m         \u001b[31m│\u001b[0m                                                                                                                                     \u001b[31m│\u001b[0m\n",
       "\u001b[2;36m                \u001b[0m         \u001b[31m│\u001b[0m in grpc._cython.cygrpc.PollerCompletionQueue._handle_events:147                                                                     \u001b[31m│\u001b[0m\n",
       "\u001b[2;36m                \u001b[0m         \u001b[31m╰─────────────────────────────────────────────────────────────────────────────────────────────────────────────────────────────────────╯\u001b[0m\n",
       "\u001b[2;36m                \u001b[0m         \u001b[1;91mBlockingIOError: \u001b[0m\u001b[1m[\u001b[0mErrno \u001b[1;36m35\u001b[0m\u001b[1m]\u001b[0m Resource temporarily unavailable                                                                           \n"
      ]
     },
     "metadata": {},
     "output_type": "display_data"
    },
    {
     "data": {
      "text/html": [
       "<pre style=\"white-space:pre;overflow-x:auto;line-height:normal;font-family:Menlo,'DejaVu Sans Mono',consolas,'Courier New',monospace\"><span style=\"color: #7fbfbf; text-decoration-color: #7fbfbf\">10:16:21.801032 </span><span style=\"color: #808000; text-decoration-color: #808000\">WARNING </span> _deploy.py:<span style=\"color: #008080; text-decoration-color: #008080; font-weight: bold\">160</span> - <span style=\"font-weight: bold\">[</span>flyte<span style=\"font-weight: bold\">]</span> Built Image for environment env, image:                                                                       \n",
       "<span style=\"color: #7fbfbf; text-decoration-color: #7fbfbf\">                </span>         <span style=\"color: #008080; text-decoration-color: #008080; font-weight: bold\">356633062068.</span>dkr.ecr.us-east-<span style=\"color: #008080; text-decoration-color: #008080; font-weight: bold\">2.</span>amazonaws.com/union/demo:flyte-py3.<span style=\"color: #008080; text-decoration-color: #008080; font-weight: bold\">12</span>-v2.<span style=\"color: #008080; text-decoration-color: #008080; font-weight: bold\">0.</span>0b18                                                         \n",
       "</pre>\n"
      ],
      "text/plain": [
       "\u001b[2;36m10:16:21.801032\u001b[0m\u001b[2;36m \u001b[0m\u001b[33mWARNING \u001b[0m _deploy.py:\u001b[1;36m160\u001b[0m - \u001b[1m[\u001b[0mflyte\u001b[1m]\u001b[0m Built Image for environment env, image:                                                                       \n",
       "\u001b[2;36m                \u001b[0m         \u001b[1;36m356633062068.\u001b[0mdkr.ecr.us-east-\u001b[1;36m2.\u001b[0mamazonaws.com/union/demo:flyte-py3.\u001b[1;36m12\u001b[0m-v2.\u001b[1;36m0.\u001b[0m0b18                                                         \n"
      ]
     },
     "metadata": {},
     "output_type": "display_data"
    },
    {
     "data": {
      "text/html": [
       "<pre style=\"white-space:pre;overflow-x:auto;line-height:normal;font-family:Menlo,'DejaVu Sans Mono',consolas,'Courier New',monospace\"><span style=\"color: #7fbfbf; text-decoration-color: #7fbfbf\">10:16:22.703627 </span><span style=\"color: #800000; text-decoration-color: #800000; font-weight: bold\">ERROR   </span> base_events.py:<span style=\"color: #008080; text-decoration-color: #008080; font-weight: bold\">1785</span> - Exception in callback <span style=\"color: #800080; text-decoration-color: #800080; font-weight: bold\">PollerCompletionQueue._handle_events</span><span style=\"font-weight: bold\">(&lt;</span><span style=\"color: #ff00ff; text-decoration-color: #ff00ff; font-weight: bold\">_UnixSelecto</span><span style=\"color: #808000; text-decoration-color: #808000; font-weight: bold\">...</span><span style=\"color: #ff00ff; text-decoration-color: #ff00ff; font-weight: bold\">e</span><span style=\"color: #000000; text-decoration-color: #000000\"> </span><span style=\"color: #808000; text-decoration-color: #808000\">debug</span><span style=\"color: #000000; text-decoration-color: #000000\">=</span><span style=\"color: #ff0000; text-decoration-color: #ff0000; font-style: italic\">False</span><span style=\"color: #000000; text-decoration-color: #000000\">&gt;</span><span style=\"color: #000000; text-decoration-color: #000000; font-weight: bold\">)()</span>                     \n",
       "<span style=\"color: #7fbfbf; text-decoration-color: #7fbfbf\">                </span>         <span style=\"color: #000000; text-decoration-color: #000000\">handle: &lt;Handle </span><span style=\"color: #800080; text-decoration-color: #800080; font-weight: bold\">PollerCompletionQueue._handle_events</span><span style=\"color: #000000; text-decoration-color: #000000; font-weight: bold\">(</span><span style=\"color: #000000; text-decoration-color: #000000\">&lt;_UnixSelecto</span><span style=\"color: #808000; text-decoration-color: #808000\">...</span><span style=\"color: #000000; text-decoration-color: #000000\">e </span><span style=\"color: #808000; text-decoration-color: #808000\">debug</span><span style=\"color: #000000; text-decoration-color: #000000\">=</span><span style=\"color: #ff0000; text-decoration-color: #ff0000; font-style: italic\">False</span><span style=\"color: #000000; text-decoration-color: #000000\">&gt;</span><span style=\"color: #000000; text-decoration-color: #000000; font-weight: bold\">)()</span><span style=\"font-weight: bold\">&gt;</span>                                                \n",
       "<span style=\"color: #7fbfbf; text-decoration-color: #7fbfbf\">                </span>         <span style=\"color: #800000; text-decoration-color: #800000\">╭───────────────────────────────────────────────── </span><span style=\"color: #800000; text-decoration-color: #800000; font-weight: bold\">Traceback </span><span style=\"color: #bf7f7f; text-decoration-color: #bf7f7f; font-weight: bold\">(most recent call last)</span><span style=\"color: #800000; text-decoration-color: #800000\"> ─────────────────────────────────────────────────╮</span>\n",
       "<span style=\"color: #7fbfbf; text-decoration-color: #7fbfbf\">                </span>         <span style=\"color: #800000; text-decoration-color: #800000\">│</span> <span style=\"color: #7f7f7f; text-decoration-color: #7f7f7f\">/Users/johnvotta/.local/share/uv/python/cpython-3.12.0-macos-aarch64-none/lib/python3.12/asyncio/</span><span style=\"font-weight: bold\">events.py</span>:84 in _run               <span style=\"color: #800000; text-decoration-color: #800000\">│</span>\n",
       "<span style=\"color: #7fbfbf; text-decoration-color: #7fbfbf\">                </span>         <span style=\"color: #800000; text-decoration-color: #800000\">│</span>                                                                                                                                     <span style=\"color: #800000; text-decoration-color: #800000\">│</span>\n",
       "<span style=\"color: #7fbfbf; text-decoration-color: #7fbfbf\">                </span>         <span style=\"color: #800000; text-decoration-color: #800000\">│</span>   <span style=\"color: #7f7f7f; text-decoration-color: #7f7f7f\"> 81 </span><span style=\"color: #7f7f7f; text-decoration-color: #7f7f7f\">│   </span>                                                                                                                          <span style=\"color: #800000; text-decoration-color: #800000\">│</span>\n",
       "<span style=\"color: #7fbfbf; text-decoration-color: #7fbfbf\">                </span>         <span style=\"color: #800000; text-decoration-color: #800000\">│</span>   <span style=\"color: #7f7f7f; text-decoration-color: #7f7f7f\"> 82 </span><span style=\"color: #7f7f7f; text-decoration-color: #7f7f7f\">│   </span><span style=\"color: #0000ff; text-decoration-color: #0000ff\">def</span><span style=\"color: #808080; text-decoration-color: #808080\"> </span><span style=\"color: #00ff00; text-decoration-color: #00ff00\">_run</span>(<span style=\"color: #00ffff; text-decoration-color: #00ffff\">self</span>):                                                                                                           <span style=\"color: #800000; text-decoration-color: #800000\">│</span>\n",
       "<span style=\"color: #7fbfbf; text-decoration-color: #7fbfbf\">                </span>         <span style=\"color: #800000; text-decoration-color: #800000\">│</span>   <span style=\"color: #7f7f7f; text-decoration-color: #7f7f7f\"> 83 </span><span style=\"color: #7f7f7f; text-decoration-color: #7f7f7f\">│   │   </span><span style=\"color: #0000ff; text-decoration-color: #0000ff\">try</span>:                                                                                                                  <span style=\"color: #800000; text-decoration-color: #800000\">│</span>\n",
       "<span style=\"color: #7fbfbf; text-decoration-color: #7fbfbf\">                </span>         <span style=\"color: #800000; text-decoration-color: #800000\">│</span> <span style=\"color: #800000; text-decoration-color: #800000\">❱ </span> 84 <span style=\"color: #7f7f7f; text-decoration-color: #7f7f7f\">│   │   │   </span><span style=\"color: #00ffff; text-decoration-color: #00ffff\">self</span>._context.run(<span style=\"color: #00ffff; text-decoration-color: #00ffff\">self</span>._callback, *<span style=\"color: #00ffff; text-decoration-color: #00ffff\">self</span>._args)                                                                    <span style=\"color: #800000; text-decoration-color: #800000\">│</span>\n",
       "<span style=\"color: #7fbfbf; text-decoration-color: #7fbfbf\">                </span>         <span style=\"color: #800000; text-decoration-color: #800000\">│</span>   <span style=\"color: #7f7f7f; text-decoration-color: #7f7f7f\"> 85 </span><span style=\"color: #7f7f7f; text-decoration-color: #7f7f7f\">│   │   </span><span style=\"color: #0000ff; text-decoration-color: #0000ff\">except</span> (<span style=\"color: #00ffff; text-decoration-color: #00ffff\">SystemExit</span>, <span style=\"color: #00ffff; text-decoration-color: #00ffff\">KeyboardInterrupt</span>):                                                                               <span style=\"color: #800000; text-decoration-color: #800000\">│</span>\n",
       "<span style=\"color: #7fbfbf; text-decoration-color: #7fbfbf\">                </span>         <span style=\"color: #800000; text-decoration-color: #800000\">│</span>   <span style=\"color: #7f7f7f; text-decoration-color: #7f7f7f\"> 86 </span><span style=\"color: #7f7f7f; text-decoration-color: #7f7f7f\">│   │   │   </span><span style=\"color: #0000ff; text-decoration-color: #0000ff\">raise</span>                                                                                                             <span style=\"color: #800000; text-decoration-color: #800000\">│</span>\n",
       "<span style=\"color: #7fbfbf; text-decoration-color: #7fbfbf\">                </span>         <span style=\"color: #800000; text-decoration-color: #800000\">│</span>   <span style=\"color: #7f7f7f; text-decoration-color: #7f7f7f\"> 87 </span><span style=\"color: #7f7f7f; text-decoration-color: #7f7f7f\">│   │   </span><span style=\"color: #0000ff; text-decoration-color: #0000ff\">except</span> <span style=\"color: #00ffff; text-decoration-color: #00ffff\">BaseException</span> <span style=\"color: #0000ff; text-decoration-color: #0000ff\">as</span> exc:                                                                                          <span style=\"color: #800000; text-decoration-color: #800000\">│</span>\n",
       "<span style=\"color: #7fbfbf; text-decoration-color: #7fbfbf\">                </span>         <span style=\"color: #800000; text-decoration-color: #800000\">│</span>                                                                                                                                     <span style=\"color: #800000; text-decoration-color: #800000\">│</span>\n",
       "<span style=\"color: #7fbfbf; text-decoration-color: #7fbfbf\">                </span>         <span style=\"color: #800000; text-decoration-color: #800000\">│</span> in grpc._cython.cygrpc.PollerCompletionQueue._handle_events:147                                                                     <span style=\"color: #800000; text-decoration-color: #800000\">│</span>\n",
       "<span style=\"color: #7fbfbf; text-decoration-color: #7fbfbf\">                </span>         <span style=\"color: #800000; text-decoration-color: #800000\">╰─────────────────────────────────────────────────────────────────────────────────────────────────────────────────────────────────────╯</span>\n",
       "<span style=\"color: #7fbfbf; text-decoration-color: #7fbfbf\">                </span>         <span style=\"color: #ff0000; text-decoration-color: #ff0000; font-weight: bold\">BlockingIOError: </span><span style=\"font-weight: bold\">[</span>Errno <span style=\"color: #008080; text-decoration-color: #008080; font-weight: bold\">35</span><span style=\"font-weight: bold\">]</span> Resource temporarily unavailable                                                                           \n",
       "</pre>\n"
      ],
      "text/plain": [
       "\u001b[2;36m10:16:22.703627\u001b[0m\u001b[2;36m \u001b[0m\u001b[1;31mERROR   \u001b[0m base_events.py:\u001b[1;36m1785\u001b[0m - Exception in callback \u001b[1;35mPollerCompletionQueue._handle_events\u001b[0m\u001b[1m(\u001b[0m\u001b[1m<\u001b[0m\u001b[1;95m_UnixSelecto\u001b[0m\u001b[1;33m...\u001b[0m\u001b[1;95me\u001b[0m\u001b[39m \u001b[0m\u001b[33mdebug\u001b[0m\u001b[39m=\u001b[0m\u001b[3;91mFalse\u001b[0m\u001b[39m>\u001b[0m\u001b[1;39m)\u001b[0m\u001b[1;39m(\u001b[0m\u001b[1;39m)\u001b[0m                     \n",
       "\u001b[2;36m                \u001b[0m         \u001b[39mhandle: <Handle \u001b[0m\u001b[1;35mPollerCompletionQueue._handle_events\u001b[0m\u001b[1;39m(\u001b[0m\u001b[39m<_UnixSelecto\u001b[0m\u001b[33m...\u001b[0m\u001b[39me \u001b[0m\u001b[33mdebug\u001b[0m\u001b[39m=\u001b[0m\u001b[3;91mFalse\u001b[0m\u001b[39m>\u001b[0m\u001b[1;39m)\u001b[0m\u001b[1;39m(\u001b[0m\u001b[1;39m)\u001b[0m\u001b[1m>\u001b[0m                                                \n",
       "\u001b[2;36m                \u001b[0m         \u001b[31m╭─\u001b[0m\u001b[31m────────────────────────────────────────────────\u001b[0m\u001b[31m \u001b[0m\u001b[1;31mTraceback \u001b[0m\u001b[1;2;31m(most recent call last)\u001b[0m\u001b[31m \u001b[0m\u001b[31m────────────────────────────────────────────────\u001b[0m\u001b[31m─╮\u001b[0m\n",
       "\u001b[2;36m                \u001b[0m         \u001b[31m│\u001b[0m \u001b[2m/Users/johnvotta/.local/share/uv/python/cpython-3.12.0-macos-aarch64-none/lib/python3.12/asyncio/\u001b[0m\u001b[1mevents.py\u001b[0m:84 in _run               \u001b[31m│\u001b[0m\n",
       "\u001b[2;36m                \u001b[0m         \u001b[31m│\u001b[0m                                                                                                                                     \u001b[31m│\u001b[0m\n",
       "\u001b[2;36m                \u001b[0m         \u001b[31m│\u001b[0m   \u001b[2m 81 \u001b[0m\u001b[2m│   \u001b[0m                                                                                                                          \u001b[31m│\u001b[0m\n",
       "\u001b[2;36m                \u001b[0m         \u001b[31m│\u001b[0m   \u001b[2m 82 \u001b[0m\u001b[2m│   \u001b[0m\u001b[94mdef\u001b[0m\u001b[90m \u001b[0m\u001b[92m_run\u001b[0m(\u001b[96mself\u001b[0m):                                                                                                           \u001b[31m│\u001b[0m\n",
       "\u001b[2;36m                \u001b[0m         \u001b[31m│\u001b[0m   \u001b[2m 83 \u001b[0m\u001b[2m│   │   \u001b[0m\u001b[94mtry\u001b[0m:                                                                                                                  \u001b[31m│\u001b[0m\n",
       "\u001b[2;36m                \u001b[0m         \u001b[31m│\u001b[0m \u001b[31m❱ \u001b[0m 84 \u001b[2m│   │   │   \u001b[0m\u001b[96mself\u001b[0m._context.run(\u001b[96mself\u001b[0m._callback, *\u001b[96mself\u001b[0m._args)                                                                    \u001b[31m│\u001b[0m\n",
       "\u001b[2;36m                \u001b[0m         \u001b[31m│\u001b[0m   \u001b[2m 85 \u001b[0m\u001b[2m│   │   \u001b[0m\u001b[94mexcept\u001b[0m (\u001b[96mSystemExit\u001b[0m, \u001b[96mKeyboardInterrupt\u001b[0m):                                                                               \u001b[31m│\u001b[0m\n",
       "\u001b[2;36m                \u001b[0m         \u001b[31m│\u001b[0m   \u001b[2m 86 \u001b[0m\u001b[2m│   │   │   \u001b[0m\u001b[94mraise\u001b[0m                                                                                                             \u001b[31m│\u001b[0m\n",
       "\u001b[2;36m                \u001b[0m         \u001b[31m│\u001b[0m   \u001b[2m 87 \u001b[0m\u001b[2m│   │   \u001b[0m\u001b[94mexcept\u001b[0m \u001b[96mBaseException\u001b[0m \u001b[94mas\u001b[0m exc:                                                                                          \u001b[31m│\u001b[0m\n",
       "\u001b[2;36m                \u001b[0m         \u001b[31m│\u001b[0m                                                                                                                                     \u001b[31m│\u001b[0m\n",
       "\u001b[2;36m                \u001b[0m         \u001b[31m│\u001b[0m in grpc._cython.cygrpc.PollerCompletionQueue._handle_events:147                                                                     \u001b[31m│\u001b[0m\n",
       "\u001b[2;36m                \u001b[0m         \u001b[31m╰─────────────────────────────────────────────────────────────────────────────────────────────────────────────────────────────────────╯\u001b[0m\n",
       "\u001b[2;36m                \u001b[0m         \u001b[1;91mBlockingIOError: \u001b[0m\u001b[1m[\u001b[0mErrno \u001b[1;36m35\u001b[0m\u001b[1m]\u001b[0m Resource temporarily unavailable                                                                           \n"
      ]
     },
     "metadata": {},
     "output_type": "display_data"
    }
   ],
   "source": [
    "run = await flyte.run.aio(hello_driver, ids=[1, 2, 3, 4, 5])"
   ]
  },
  {
   "cell_type": "code",
   "execution_count": 7,
   "id": "76c3d189-8201-413e-9d50-0f3fd511d36a",
   "metadata": {},
   "outputs": [
    {
     "data": {
      "text/plain": [
       "'https://demo.hosted.unionai.cloud/v2/runs/project/flytesnacks/domain/development/r2lvbm6gwbgsj957n54g'"
      ]
     },
     "execution_count": 7,
     "metadata": {},
     "output_type": "execute_result"
    }
   ],
   "source": [
    "run.url"
   ]
  },
  {
   "cell_type": "code",
   "execution_count": 8,
   "id": "af0982fa-22f3-4825-8e96-72e0ea7d5782",
   "metadata": {},
   "outputs": [
    {
     "data": {
      "text/plain": [
       "'r6bvjrh9g8d8bjzhhf68'"
      ]
     },
     "execution_count": 8,
     "metadata": {},
     "output_type": "execute_result"
    }
   ],
   "source": [
    "run.name"
   ]
  },
  {
   "cell_type": "code",
   "execution_count": 9,
   "id": "a3b9d904-929a-4171-8b53-d6e0717d689e",
   "metadata": {},
   "outputs": [
    {
     "data": {
      "application/vnd.jupyter.widget-view+json": {
       "model_id": "8cf660644ad74996a2b32c8821159610",
       "version_major": 2,
       "version_minor": 0
      },
      "text/plain": [
       "Output()"
      ]
     },
     "metadata": {},
     "output_type": "display_data"
    },
    {
     "data": {
      "text/html": [
       "<pre style=\"white-space:pre;overflow-x:auto;line-height:normal;font-family:Menlo,'DejaVu Sans Mono',consolas,'Courier New',monospace\"></pre>\n"
      ],
      "text/plain": []
     },
     "metadata": {},
     "output_type": "display_data"
    },
    {
     "data": {
      "application/vnd.jupyter.widget-view+json": {
       "model_id": "8296c21926b8443987e26f01cd24c8ef",
       "version_major": 2,
       "version_minor": 0
      },
      "text/plain": [
       "Output()"
      ]
     },
     "metadata": {},
     "output_type": "display_data"
    },
    {
     "data": {
      "text/html": [
       "<pre style=\"white-space:pre;overflow-x:auto;line-height:normal;font-family:Menlo,'DejaVu Sans Mono',consolas,'Courier New',monospace\"></pre>\n"
      ],
      "text/plain": []
     },
     "metadata": {},
     "output_type": "display_data"
    },
    {
     "data": {
      "text/html": [
       "<pre style=\"white-space:pre;overflow-x:auto;line-height:normal;font-family:Menlo,'DejaVu Sans Mono',consolas,'Courier New',monospace\">Scrolled <span style=\"color: #008080; text-decoration-color: #008080; font-weight: bold\">5</span> lines of logs.\n",
       "</pre>\n"
      ],
      "text/plain": [
       "Scrolled \u001b[1;36m5\u001b[0m lines of logs.\n"
      ]
     },
     "metadata": {},
     "output_type": "display_data"
    }
   ],
   "source": [
    "run.show_logs()"
   ]
  },
  {
   "cell_type": "code",
   "execution_count": 10,
   "id": "a4dcbf99-efa0-4c9a-a249-b2dc1653979b",
   "metadata": {},
   "outputs": [
    {
     "data": {
      "text/plain": [
       "RunDetails(\n",
       "    labels='',\n",
       "    annotations='',\n",
       "    env-vars='values {\\n  key: \"LOG_LEVEL\"\\n  value: \"30\"\\n}\\n',\n",
       "    is-interruptible='',\n",
       "    cache-overwrite=False,\n",
       "    name='r6bvjrh9g8d8bjzhhf68',\n",
       "    start_time='2025-08-20T16:22:31.728292+00:00',\n",
       "    end_time=None,\n",
       "    run_time='20 secs',\n",
       "    phase='PHASE_RUNNING',\n",
       "    error='NA',\n",
       "    task='env.hello_driver',\n",
       "    task_type='python',\n",
       "    task_version='5db012a547f1e965b36e4d7f7121ef95',\n",
       "    attempts=[],\n",
       "    error='NA',\n",
       "    phase='PHASE_RUNNING',\n",
       "    group='',\n",
       "    parent=''\n",
       ")"
      ]
     },
     "execution_count": 10,
     "metadata": {},
     "output_type": "execute_result"
    }
   ],
   "source": [
    "run.details()"
   ]
  },
  {
   "cell_type": "code",
   "execution_count": 11,
   "id": "517ebb71-9e8a-4940-9028-435f901a970f",
   "metadata": {},
   "outputs": [],
   "source": [
    "actions = [a.name for a in remote.Action.listall(for_run_name=run.name)]"
   ]
  },
  {
   "cell_type": "code",
   "execution_count": 12,
   "id": "54d281f5-25e2-4e63-8d98-79eaecabfeb4",
   "metadata": {},
   "outputs": [
    {
     "data": {
      "text/plain": [
       "['a0',\n",
       " 'cxhqelhonglyw9ulk0w379wyo',\n",
       " '3j1bko7ek2e4adzyfaoyn7o9f',\n",
       " 'ej2ocd01rc8kf91xjbur6mnoa',\n",
       " '6saok0wz5v9g7vauj3io9xsrw',\n",
       " '12nq9ciau4y5hohmy4jdt5dd7']"
      ]
     },
     "execution_count": 12,
     "metadata": {},
     "output_type": "execute_result"
    }
   ],
   "source": [
    "actions"
   ]
  },
  {
   "cell_type": "code",
   "execution_count": 13,
   "id": "b60e3965-6ef2-452e-acaa-7ad25f144b0b",
   "metadata": {},
   "outputs": [
    {
     "data": {
      "application/vnd.jupyter.widget-view+json": {
       "model_id": "f31b57a9aa7f4067882aa8ffed5a93ec",
       "version_major": 2,
       "version_minor": 0
      },
      "text/plain": [
       "Output()"
      ]
     },
     "metadata": {},
     "output_type": "display_data"
    },
    {
     "data": {
      "text/html": [
       "<pre style=\"white-space:pre;overflow-x:auto;line-height:normal;font-family:Menlo,'DejaVu Sans Mono',consolas,'Courier New',monospace\"></pre>\n"
      ],
      "text/plain": []
     },
     "metadata": {},
     "output_type": "display_data"
    },
    {
     "data": {
      "text/html": [
       "<pre style=\"white-space:pre;overflow-x:auto;line-height:normal;font-family:Menlo,'DejaVu Sans Mono',consolas,'Courier New',monospace\">Scrolled <span style=\"color: #008080; text-decoration-color: #008080; font-weight: bold\">1</span> lines of logs.\n",
       "</pre>\n"
      ],
      "text/plain": [
       "Scrolled \u001b[1;36m1\u001b[0m lines of logs.\n"
      ]
     },
     "metadata": {},
     "output_type": "display_data"
    },
    {
     "ename": "TypeError",
     "evalue": "object NoneType can't be used in 'await' expression",
     "output_type": "error",
     "traceback": [
      "\u001b[31m---------------------------------------------------------------------------\u001b[39m",
      "\u001b[31mTypeError\u001b[39m                                 Traceback (most recent call last)",
      "\u001b[36mCell\u001b[39m\u001b[36m \u001b[39m\u001b[32mIn[13]\u001b[39m\u001b[32m, line 1\u001b[39m\n\u001b[32m----> \u001b[39m\u001b[32m1\u001b[39m \u001b[38;5;28;01mawait\u001b[39;00m remote.Action.get(run_name=\u001b[33m\"\u001b[39m\u001b[33mr9wvncwtz2v42qs6sgv6\u001b[39m\u001b[33m\"\u001b[39m, name=\u001b[33m\"\u001b[39m\u001b[33mbbnt6kwprld4km8wi753mtvnu\u001b[39m\u001b[33m\"\u001b[39m).show_logs()\n",
      "\u001b[31mTypeError\u001b[39m: object NoneType can't be used in 'await' expression"
     ]
    }
   ],
   "source": [
    "await remote.Action.get(run_name=\"r9wvncwtz2v42qs6sgv6\", name=\"bbnt6kwprld4km8wi753mtvnu\").show_logs()"
   ]
  },
  {
   "cell_type": "code",
   "execution_count": null,
   "id": "9b74010d-6c7f-41a7-a4e3-aca458afef4c",
   "metadata": {},
   "outputs": [],
   "source": [
    "for action in remote.Action.listall(for_run_name=run.name):\n",
    "    await remote.Action.get(run_name=\"r9wvncwtz2v42qs6sgv6\", name=action.name).show_logs(raw=True)"
   ]
  },
  {
   "cell_type": "code",
   "execution_count": null,
   "id": "d5f86d3a-fca6-4a7a-8d5e-87dd0b9f8f55",
   "metadata": {},
   "outputs": [],
   "source": []
  }
 ],
 "metadata": {
  "kernelspec": {
   "display_name": "Python 3 (ipykernel)",
   "language": "python",
   "name": "python3"
  },
  "language_info": {
   "codemirror_mode": {
    "name": "ipython",
    "version": 3
   },
   "file_extension": ".py",
   "mimetype": "text/x-python",
   "name": "python",
   "nbconvert_exporter": "python",
   "pygments_lexer": "ipython3",
   "version": "3.12.0"
  }
 },
 "nbformat": 4,
 "nbformat_minor": 5
}
