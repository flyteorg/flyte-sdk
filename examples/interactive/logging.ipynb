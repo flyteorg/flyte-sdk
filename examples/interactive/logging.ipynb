{
 "cells": [
  {
   "cell_type": "code",
   "execution_count": 1,
   "id": "09ebf6e8-a810-41a8-a254-081cfdb17584",
   "metadata": {},
   "outputs": [],
   "source": [
    "import flyte\n",
    "import flyte.remote as remote\n",
    "\n",
    "import asyncio\n",
    "from typing import List"
   ]
  },
  {
   "cell_type": "code",
   "execution_count": 2,
   "id": "37618f8c-cb7a-4069-b1d8-08f63f938a0b",
   "metadata": {},
   "outputs": [],
   "source": [
    "flyte.init_from_config(\"../../config.yaml\")"
   ]
  },
  {
   "cell_type": "code",
   "execution_count": 3,
   "id": "d4a1f67b-97d4-4094-b7e9-82a7b014ff4b",
   "metadata": {},
   "outputs": [],
   "source": [
    "env = flyte.TaskEnvironment(\n",
    "    name=\"env\",\n",
    "    image=flyte.Image\n",
    "        .from_debian_base()\n",
    "        .with_pip_packages(\"pandas\", \"requests\"),\n",
    ")"
   ]
  },
  {
   "cell_type": "code",
   "execution_count": 4,
   "id": "c0a1c16b-26f4-44b2-939a-df9abcb7a71e",
   "metadata": {},
   "outputs": [],
   "source": [
    "@env.task()\n",
    "async def hello_worker(id: int) -> str:\n",
    "    print(f\"hello, my id is: {id} and I am being run by Action: {flyte.ctx().action}\")\n",
    "    return str(id)\n"
   ]
  },
  {
   "cell_type": "code",
   "execution_count": 5,
   "id": "cb9f9cc9-8667-46c4-abd3-555cb8a075d4",
   "metadata": {},
   "outputs": [],
   "source": [
    "@env.task()\n",
    "async def hello_driver(ids: List[int] = [1, 2, 3]) -> List[str]:\n",
    "    coros = []\n",
    "    with flyte.group(\"fanout-group\"):\n",
    "        for id in ids:\n",
    "            coros.append(hello_worker(id))\n",
    "            print(f\"working with id: {id}\")\n",
    "\n",
    "        vals = await asyncio.gather(*coros)\n",
    "\n",
    "    return vals"
   ]
  },
  {
   "cell_type": "code",
   "execution_count": 6,
   "id": "cbf06ba1-9a8f-419e-b823-bcfed8cd2cbe",
   "metadata": {},
   "outputs": [
    {
     "data": {
      "text/html": [
       "<pre style=\"white-space:pre;overflow-x:auto;line-height:normal;font-family:Menlo,'DejaVu Sans Mono',consolas,'Courier New',monospace\"><span style=\"color: #7fbfbf; text-decoration-color: #7fbfbf\">06:38:04.475241 </span><span style=\"color: #808000; text-decoration-color: #808000\">WARNING </span> remote_builder.py:<span style=\"color: #008080; text-decoration-color: #008080; font-weight: bold\">78</span> - \u001b<span style=\"font-weight: bold\">[</span>34mImage <span style=\"color: #008080; text-decoration-color: #008080; font-weight: bold\">356633062068.</span>dkr.ecr.us-east-<span style=\"color: #008080; text-decoration-color: #008080; font-weight: bold\">2.</span>amazonaws.com/union/demo:flyte-0642f61c864690ba4f511536cebfef58 found. \n",
       "<span style=\"color: #7fbfbf; text-decoration-color: #7fbfbf\">                </span>         Skip building.\u001b<span style=\"font-weight: bold\">[</span>0m                                                                                                                      \n",
       "</pre>\n"
      ],
      "text/plain": [
       "\u001b[2;36m06:38:04.475241\u001b[0m\u001b[2;36m \u001b[0m\u001b[33mWARNING \u001b[0m remote_builder.py:\u001b[1;36m78\u001b[0m - \u001b\u001b[1m[\u001b[0m34mImage \u001b[1;36m356633062068.\u001b[0mdkr.ecr.us-east-\u001b[1;36m2.\u001b[0mamazonaws.com/union/demo:flyte-0642f61c864690ba4f511536cebfef58 found. \n",
       "\u001b[2;36m                \u001b[0m         Skip building.\u001b\u001b[1m[\u001b[0m0m                                                                                                                      \n"
      ]
     },
     "metadata": {},
     "output_type": "display_data"
    },
    {
     "data": {
      "text/html": [
       "<pre style=\"white-space:pre;overflow-x:auto;line-height:normal;font-family:Menlo,'DejaVu Sans Mono',consolas,'Courier New',monospace\"><span style=\"color: #7fbfbf; text-decoration-color: #7fbfbf\">06:38:04.486852 </span><span style=\"color: #808000; text-decoration-color: #808000\">WARNING </span> _deploy.py:<span style=\"color: #008080; text-decoration-color: #008080; font-weight: bold\">160</span> - Built Image for environment env, image:                                                                               \n",
       "<span style=\"color: #7fbfbf; text-decoration-color: #7fbfbf\">                </span>         <span style=\"color: #008080; text-decoration-color: #008080; font-weight: bold\">356633062068.</span>dkr.ecr.us-east-<span style=\"color: #008080; text-decoration-color: #008080; font-weight: bold\">2.</span>amazonaws.com/union/demo:flyte-0642f61c864690ba4f511536cebfef58                                         \n",
       "</pre>\n"
      ],
      "text/plain": [
       "\u001b[2;36m06:38:04.486852\u001b[0m\u001b[2;36m \u001b[0m\u001b[33mWARNING \u001b[0m _deploy.py:\u001b[1;36m160\u001b[0m - Built Image for environment env, image:                                                                               \n",
       "\u001b[2;36m                \u001b[0m         \u001b[1;36m356633062068.\u001b[0mdkr.ecr.us-east-\u001b[1;36m2.\u001b[0mamazonaws.com/union/demo:flyte-0642f61c864690ba4f511536cebfef58                                         \n"
      ]
     },
     "metadata": {},
     "output_type": "display_data"
    }
   ],
   "source": [
    "run = await flyte.run.aio(hello_driver, ids=[1, 2, 3, 4, 5])"
   ]
  },
  {
   "cell_type": "code",
   "execution_count": 7,
   "id": "76c3d189-8201-413e-9d50-0f3fd511d36a",
   "metadata": {},
   "outputs": [
    {
     "data": {
      "text/plain": [
       "'https://demo.hosted.unionai.cloud/v2/runs/project/flytesnacks/domain/development/rdjbd6qr4zlzt6rv2sfr'"
      ]
     },
     "execution_count": 7,
     "metadata": {},
     "output_type": "execute_result"
    }
   ],
   "source": [
    "run.url"
   ]
  },
  {
   "cell_type": "code",
   "execution_count": 8,
   "id": "af0982fa-22f3-4825-8e96-72e0ea7d5782",
   "metadata": {},
   "outputs": [
    {
     "data": {
      "text/plain": [
       "'rdjbd6qr4zlzt6rv2sfr'"
      ]
     },
     "execution_count": 8,
     "metadata": {},
     "output_type": "execute_result"
    }
   ],
   "source": [
    "run.name"
   ]
  },
  {
   "cell_type": "code",
   "execution_count": 9,
   "id": "a3b9d904-929a-4171-8b53-d6e0717d689e",
   "metadata": {},
   "outputs": [
    {
     "data": {
      "application/vnd.jupyter.widget-view+json": {
       "model_id": "6fde4be53bab4333ac1c499ab7bc9e93",
       "version_major": 2,
       "version_minor": 0
      },
      "text/plain": [
       "Output()"
      ]
     },
     "metadata": {},
     "output_type": "display_data"
    },
    {
     "data": {
      "text/html": [
       "<pre style=\"white-space:pre;overflow-x:auto;line-height:normal;font-family:Menlo,'DejaVu Sans Mono',consolas,'Courier New',monospace\">Exception in callback PollerCompletionQueue._handle_events()()\n",
       "handle: &lt;Handle PollerCompletionQueue._handle_events()()&gt;\n",
       "Traceback (most recent call last):\n",
       "  File \n",
       "\"/Users/johnvotta/.local/share/uv/python/cpython-3.13.0-macos-aarch64-none/lib/python3.13/asyncio/events.py\", line \n",
       "89, in _run\n",
       "    self._context.run(self._callback, *self._args)\n",
       "    ~~~~~~~~~~~~~~~~~^^^^^^^^^^^^^^^^^^^^^^^^^^^^^\n",
       "  File \"src/python/grpcio/grpc/_cython/_cygrpc/aio/completion_queue.pyx.pxi\", line 147, in \n",
       "grpc._cython.cygrpc.PollerCompletionQueue._handle_events\n",
       "BlockingIOError: [Errno 35] Resource temporarily unavailable\n",
       "</pre>\n"
      ],
      "text/plain": [
       "Exception in callback PollerCompletionQueue._handle_events()()\n",
       "handle: <Handle PollerCompletionQueue._handle_events()()>\n",
       "Traceback (most recent call last):\n",
       "  File \n",
       "\"/Users/johnvotta/.local/share/uv/python/cpython-3.13.0-macos-aarch64-none/lib/python3.13/asyncio/events.py\", line \n",
       "89, in _run\n",
       "    self._context.run(self._callback, *self._args)\n",
       "    ~~~~~~~~~~~~~~~~~^^^^^^^^^^^^^^^^^^^^^^^^^^^^^\n",
       "  File \"src/python/grpcio/grpc/_cython/_cygrpc/aio/completion_queue.pyx.pxi\", line 147, in \n",
       "grpc._cython.cygrpc.PollerCompletionQueue._handle_events\n",
       "BlockingIOError: [Errno 35] Resource temporarily unavailable\n"
      ]
     },
     "metadata": {},
     "output_type": "display_data"
    },
    {
     "data": {
      "text/html": [
       "<pre style=\"white-space:pre;overflow-x:auto;line-height:normal;font-family:Menlo,'DejaVu Sans Mono',consolas,'Courier New',monospace\">Exception in callback PollerCompletionQueue._handle_events()()\n",
       "handle: &lt;Handle PollerCompletionQueue._handle_events()()&gt;\n",
       "Traceback (most recent call last):\n",
       "  File \n",
       "\"/Users/johnvotta/.local/share/uv/python/cpython-3.13.0-macos-aarch64-none/lib/python3.13/asyncio/events.py\", line \n",
       "89, in _run\n",
       "    self._context.run(self._callback, *self._args)\n",
       "    ~~~~~~~~~~~~~~~~~^^^^^^^^^^^^^^^^^^^^^^^^^^^^^\n",
       "  File \"src/python/grpcio/grpc/_cython/_cygrpc/aio/completion_queue.pyx.pxi\", line 147, in \n",
       "grpc._cython.cygrpc.PollerCompletionQueue._handle_events\n",
       "BlockingIOError: [Errno 35] Resource temporarily unavailable\n",
       "</pre>\n"
      ],
      "text/plain": [
       "Exception in callback PollerCompletionQueue._handle_events()()\n",
       "handle: <Handle PollerCompletionQueue._handle_events()()>\n",
       "Traceback (most recent call last):\n",
       "  File \n",
       "\"/Users/johnvotta/.local/share/uv/python/cpython-3.13.0-macos-aarch64-none/lib/python3.13/asyncio/events.py\", line \n",
       "89, in _run\n",
       "    self._context.run(self._callback, *self._args)\n",
       "    ~~~~~~~~~~~~~~~~~^^^^^^^^^^^^^^^^^^^^^^^^^^^^^\n",
       "  File \"src/python/grpcio/grpc/_cython/_cygrpc/aio/completion_queue.pyx.pxi\", line 147, in \n",
       "grpc._cython.cygrpc.PollerCompletionQueue._handle_events\n",
       "BlockingIOError: [Errno 35] Resource temporarily unavailable\n"
      ]
     },
     "metadata": {},
     "output_type": "display_data"
    },
    {
     "data": {
      "text/html": [
       "<pre style=\"white-space:pre;overflow-x:auto;line-height:normal;font-family:Menlo,'DejaVu Sans Mono',consolas,'Courier New',monospace\">Exception in callback PollerCompletionQueue._handle_events()()\n",
       "handle: &lt;Handle PollerCompletionQueue._handle_events()()&gt;\n",
       "Traceback (most recent call last):\n",
       "  File \n",
       "\"/Users/johnvotta/.local/share/uv/python/cpython-3.13.0-macos-aarch64-none/lib/python3.13/asyncio/events.py\", line \n",
       "89, in _run\n",
       "    self._context.run(self._callback, *self._args)\n",
       "    ~~~~~~~~~~~~~~~~~^^^^^^^^^^^^^^^^^^^^^^^^^^^^^\n",
       "  File \"src/python/grpcio/grpc/_cython/_cygrpc/aio/completion_queue.pyx.pxi\", line 147, in \n",
       "grpc._cython.cygrpc.PollerCompletionQueue._handle_events\n",
       "BlockingIOError: [Errno 35] Resource temporarily unavailable\n",
       "</pre>\n"
      ],
      "text/plain": [
       "Exception in callback PollerCompletionQueue._handle_events()()\n",
       "handle: <Handle PollerCompletionQueue._handle_events()()>\n",
       "Traceback (most recent call last):\n",
       "  File \n",
       "\"/Users/johnvotta/.local/share/uv/python/cpython-3.13.0-macos-aarch64-none/lib/python3.13/asyncio/events.py\", line \n",
       "89, in _run\n",
       "    self._context.run(self._callback, *self._args)\n",
       "    ~~~~~~~~~~~~~~~~~^^^^^^^^^^^^^^^^^^^^^^^^^^^^^\n",
       "  File \"src/python/grpcio/grpc/_cython/_cygrpc/aio/completion_queue.pyx.pxi\", line 147, in \n",
       "grpc._cython.cygrpc.PollerCompletionQueue._handle_events\n",
       "BlockingIOError: [Errno 35] Resource temporarily unavailable\n"
      ]
     },
     "metadata": {},
     "output_type": "display_data"
    },
    {
     "data": {
      "text/html": [
       "<pre style=\"white-space:pre;overflow-x:auto;line-height:normal;font-family:Menlo,'DejaVu Sans Mono',consolas,'Courier New',monospace\">Exception in callback PollerCompletionQueue._handle_events()()\n",
       "handle: &lt;Handle PollerCompletionQueue._handle_events()()&gt;\n",
       "Traceback (most recent call last):\n",
       "  File \n",
       "\"/Users/johnvotta/.local/share/uv/python/cpython-3.13.0-macos-aarch64-none/lib/python3.13/asyncio/events.py\", line \n",
       "89, in _run\n",
       "    self._context.run(self._callback, *self._args)\n",
       "    ~~~~~~~~~~~~~~~~~^^^^^^^^^^^^^^^^^^^^^^^^^^^^^\n",
       "  File \"src/python/grpcio/grpc/_cython/_cygrpc/aio/completion_queue.pyx.pxi\", line 147, in \n",
       "grpc._cython.cygrpc.PollerCompletionQueue._handle_events\n",
       "BlockingIOError: [Errno 35] Resource temporarily unavailable\n",
       "</pre>\n"
      ],
      "text/plain": [
       "Exception in callback PollerCompletionQueue._handle_events()()\n",
       "handle: <Handle PollerCompletionQueue._handle_events()()>\n",
       "Traceback (most recent call last):\n",
       "  File \n",
       "\"/Users/johnvotta/.local/share/uv/python/cpython-3.13.0-macos-aarch64-none/lib/python3.13/asyncio/events.py\", line \n",
       "89, in _run\n",
       "    self._context.run(self._callback, *self._args)\n",
       "    ~~~~~~~~~~~~~~~~~^^^^^^^^^^^^^^^^^^^^^^^^^^^^^\n",
       "  File \"src/python/grpcio/grpc/_cython/_cygrpc/aio/completion_queue.pyx.pxi\", line 147, in \n",
       "grpc._cython.cygrpc.PollerCompletionQueue._handle_events\n",
       "BlockingIOError: [Errno 35] Resource temporarily unavailable\n"
      ]
     },
     "metadata": {},
     "output_type": "display_data"
    },
    {
     "data": {
      "text/html": [
       "<pre style=\"white-space:pre;overflow-x:auto;line-height:normal;font-family:Menlo,'DejaVu Sans Mono',consolas,'Courier New',monospace\">Exception in callback PollerCompletionQueue._handle_events()()\n",
       "handle: &lt;Handle PollerCompletionQueue._handle_events()()&gt;\n",
       "Traceback (most recent call last):\n",
       "  File \n",
       "\"/Users/johnvotta/.local/share/uv/python/cpython-3.13.0-macos-aarch64-none/lib/python3.13/asyncio/events.py\", line \n",
       "89, in _run\n",
       "    self._context.run(self._callback, *self._args)\n",
       "    ~~~~~~~~~~~~~~~~~^^^^^^^^^^^^^^^^^^^^^^^^^^^^^\n",
       "  File \"src/python/grpcio/grpc/_cython/_cygrpc/aio/completion_queue.pyx.pxi\", line 147, in \n",
       "grpc._cython.cygrpc.PollerCompletionQueue._handle_events\n",
       "BlockingIOError: [Errno 35] Resource temporarily unavailable\n",
       "</pre>\n"
      ],
      "text/plain": [
       "Exception in callback PollerCompletionQueue._handle_events()()\n",
       "handle: <Handle PollerCompletionQueue._handle_events()()>\n",
       "Traceback (most recent call last):\n",
       "  File \n",
       "\"/Users/johnvotta/.local/share/uv/python/cpython-3.13.0-macos-aarch64-none/lib/python3.13/asyncio/events.py\", line \n",
       "89, in _run\n",
       "    self._context.run(self._callback, *self._args)\n",
       "    ~~~~~~~~~~~~~~~~~^^^^^^^^^^^^^^^^^^^^^^^^^^^^^\n",
       "  File \"src/python/grpcio/grpc/_cython/_cygrpc/aio/completion_queue.pyx.pxi\", line 147, in \n",
       "grpc._cython.cygrpc.PollerCompletionQueue._handle_events\n",
       "BlockingIOError: [Errno 35] Resource temporarily unavailable\n"
      ]
     },
     "metadata": {},
     "output_type": "display_data"
    },
    {
     "data": {
      "text/html": [
       "<pre style=\"white-space:pre;overflow-x:auto;line-height:normal;font-family:Menlo,'DejaVu Sans Mono',consolas,'Courier New',monospace\">Exception in callback PollerCompletionQueue._handle_events()()\n",
       "handle: &lt;Handle PollerCompletionQueue._handle_events()()&gt;\n",
       "Traceback (most recent call last):\n",
       "  File \n",
       "\"/Users/johnvotta/.local/share/uv/python/cpython-3.13.0-macos-aarch64-none/lib/python3.13/asyncio/events.py\", line \n",
       "89, in _run\n",
       "    self._context.run(self._callback, *self._args)\n",
       "    ~~~~~~~~~~~~~~~~~^^^^^^^^^^^^^^^^^^^^^^^^^^^^^\n",
       "  File \"src/python/grpcio/grpc/_cython/_cygrpc/aio/completion_queue.pyx.pxi\", line 147, in \n",
       "grpc._cython.cygrpc.PollerCompletionQueue._handle_events\n",
       "BlockingIOError: [Errno 35] Resource temporarily unavailable\n",
       "</pre>\n"
      ],
      "text/plain": [
       "Exception in callback PollerCompletionQueue._handle_events()()\n",
       "handle: <Handle PollerCompletionQueue._handle_events()()>\n",
       "Traceback (most recent call last):\n",
       "  File \n",
       "\"/Users/johnvotta/.local/share/uv/python/cpython-3.13.0-macos-aarch64-none/lib/python3.13/asyncio/events.py\", line \n",
       "89, in _run\n",
       "    self._context.run(self._callback, *self._args)\n",
       "    ~~~~~~~~~~~~~~~~~^^^^^^^^^^^^^^^^^^^^^^^^^^^^^\n",
       "  File \"src/python/grpcio/grpc/_cython/_cygrpc/aio/completion_queue.pyx.pxi\", line 147, in \n",
       "grpc._cython.cygrpc.PollerCompletionQueue._handle_events\n",
       "BlockingIOError: [Errno 35] Resource temporarily unavailable\n"
      ]
     },
     "metadata": {},
     "output_type": "display_data"
    },
    {
     "data": {
      "text/html": [
       "<pre style=\"white-space:pre;overflow-x:auto;line-height:normal;font-family:Menlo,'DejaVu Sans Mono',consolas,'Courier New',monospace\"></pre>\n"
      ],
      "text/plain": []
     },
     "metadata": {},
     "output_type": "display_data"
    },
    {
     "data": {
      "application/vnd.jupyter.widget-view+json": {
       "model_id": "30e500f5d8284674bc3b211fc2cb2979",
       "version_major": 2,
       "version_minor": 0
      },
      "text/plain": [
       "Output()"
      ]
     },
     "metadata": {},
     "output_type": "display_data"
    },
    {
     "data": {
      "text/html": [
       "<pre style=\"white-space:pre;overflow-x:auto;line-height:normal;font-family:Menlo,'DejaVu Sans Mono',consolas,'Courier New',monospace\">Exception in callback PollerCompletionQueue._handle_events()()\n",
       "handle: &lt;Handle PollerCompletionQueue._handle_events()()&gt;\n",
       "Traceback (most recent call last):\n",
       "  File \n",
       "\"/Users/johnvotta/.local/share/uv/python/cpython-3.13.0-macos-aarch64-none/lib/python3.13/asyncio/events.py\", line \n",
       "89, in _run\n",
       "    self._context.run(self._callback, *self._args)\n",
       "    ~~~~~~~~~~~~~~~~~^^^^^^^^^^^^^^^^^^^^^^^^^^^^^\n",
       "  File \"src/python/grpcio/grpc/_cython/_cygrpc/aio/completion_queue.pyx.pxi\", line 147, in \n",
       "grpc._cython.cygrpc.PollerCompletionQueue._handle_events\n",
       "BlockingIOError: [Errno 35] Resource temporarily unavailable\n",
       "</pre>\n"
      ],
      "text/plain": [
       "Exception in callback PollerCompletionQueue._handle_events()()\n",
       "handle: <Handle PollerCompletionQueue._handle_events()()>\n",
       "Traceback (most recent call last):\n",
       "  File \n",
       "\"/Users/johnvotta/.local/share/uv/python/cpython-3.13.0-macos-aarch64-none/lib/python3.13/asyncio/events.py\", line \n",
       "89, in _run\n",
       "    self._context.run(self._callback, *self._args)\n",
       "    ~~~~~~~~~~~~~~~~~^^^^^^^^^^^^^^^^^^^^^^^^^^^^^\n",
       "  File \"src/python/grpcio/grpc/_cython/_cygrpc/aio/completion_queue.pyx.pxi\", line 147, in \n",
       "grpc._cython.cygrpc.PollerCompletionQueue._handle_events\n",
       "BlockingIOError: [Errno 35] Resource temporarily unavailable\n"
      ]
     },
     "metadata": {},
     "output_type": "display_data"
    },
    {
     "data": {
      "text/html": [
       "<pre style=\"white-space:pre;overflow-x:auto;line-height:normal;font-family:Menlo,'DejaVu Sans Mono',consolas,'Courier New',monospace\">Exception in callback PollerCompletionQueue._handle_events()()\n",
       "handle: &lt;Handle PollerCompletionQueue._handle_events()()&gt;\n",
       "Traceback (most recent call last):\n",
       "  File \n",
       "\"/Users/johnvotta/.local/share/uv/python/cpython-3.13.0-macos-aarch64-none/lib/python3.13/asyncio/events.py\", line \n",
       "89, in _run\n",
       "    self._context.run(self._callback, *self._args)\n",
       "    ~~~~~~~~~~~~~~~~~^^^^^^^^^^^^^^^^^^^^^^^^^^^^^\n",
       "  File \"src/python/grpcio/grpc/_cython/_cygrpc/aio/completion_queue.pyx.pxi\", line 147, in \n",
       "grpc._cython.cygrpc.PollerCompletionQueue._handle_events\n",
       "BlockingIOError: [Errno 35] Resource temporarily unavailable\n",
       "</pre>\n"
      ],
      "text/plain": [
       "Exception in callback PollerCompletionQueue._handle_events()()\n",
       "handle: <Handle PollerCompletionQueue._handle_events()()>\n",
       "Traceback (most recent call last):\n",
       "  File \n",
       "\"/Users/johnvotta/.local/share/uv/python/cpython-3.13.0-macos-aarch64-none/lib/python3.13/asyncio/events.py\", line \n",
       "89, in _run\n",
       "    self._context.run(self._callback, *self._args)\n",
       "    ~~~~~~~~~~~~~~~~~^^^^^^^^^^^^^^^^^^^^^^^^^^^^^\n",
       "  File \"src/python/grpcio/grpc/_cython/_cygrpc/aio/completion_queue.pyx.pxi\", line 147, in \n",
       "grpc._cython.cygrpc.PollerCompletionQueue._handle_events\n",
       "BlockingIOError: [Errno 35] Resource temporarily unavailable\n"
      ]
     },
     "metadata": {},
     "output_type": "display_data"
    },
    {
     "data": {
      "text/html": [
       "<pre style=\"white-space:pre;overflow-x:auto;line-height:normal;font-family:Menlo,'DejaVu Sans Mono',consolas,'Courier New',monospace\">Exception in callback PollerCompletionQueue._handle_events()()\n",
       "handle: &lt;Handle PollerCompletionQueue._handle_events()()&gt;\n",
       "Traceback (most recent call last):\n",
       "  File \n",
       "\"/Users/johnvotta/.local/share/uv/python/cpython-3.13.0-macos-aarch64-none/lib/python3.13/asyncio/events.py\", line \n",
       "89, in _run\n",
       "    self._context.run(self._callback, *self._args)\n",
       "    ~~~~~~~~~~~~~~~~~^^^^^^^^^^^^^^^^^^^^^^^^^^^^^\n",
       "  File \"src/python/grpcio/grpc/_cython/_cygrpc/aio/completion_queue.pyx.pxi\", line 147, in \n",
       "grpc._cython.cygrpc.PollerCompletionQueue._handle_events\n",
       "BlockingIOError: [Errno 35] Resource temporarily unavailable\n",
       "</pre>\n"
      ],
      "text/plain": [
       "Exception in callback PollerCompletionQueue._handle_events()()\n",
       "handle: <Handle PollerCompletionQueue._handle_events()()>\n",
       "Traceback (most recent call last):\n",
       "  File \n",
       "\"/Users/johnvotta/.local/share/uv/python/cpython-3.13.0-macos-aarch64-none/lib/python3.13/asyncio/events.py\", line \n",
       "89, in _run\n",
       "    self._context.run(self._callback, *self._args)\n",
       "    ~~~~~~~~~~~~~~~~~^^^^^^^^^^^^^^^^^^^^^^^^^^^^^\n",
       "  File \"src/python/grpcio/grpc/_cython/_cygrpc/aio/completion_queue.pyx.pxi\", line 147, in \n",
       "grpc._cython.cygrpc.PollerCompletionQueue._handle_events\n",
       "BlockingIOError: [Errno 35] Resource temporarily unavailable\n"
      ]
     },
     "metadata": {},
     "output_type": "display_data"
    },
    {
     "data": {
      "text/html": [
       "<pre style=\"white-space:pre;overflow-x:auto;line-height:normal;font-family:Menlo,'DejaVu Sans Mono',consolas,'Courier New',monospace\">Exception in callback PollerCompletionQueue._handle_events()()\n",
       "handle: &lt;Handle PollerCompletionQueue._handle_events()()&gt;\n",
       "Traceback (most recent call last):\n",
       "  File \n",
       "\"/Users/johnvotta/.local/share/uv/python/cpython-3.13.0-macos-aarch64-none/lib/python3.13/asyncio/events.py\", line \n",
       "89, in _run\n",
       "    self._context.run(self._callback, *self._args)\n",
       "    ~~~~~~~~~~~~~~~~~^^^^^^^^^^^^^^^^^^^^^^^^^^^^^\n",
       "  File \"src/python/grpcio/grpc/_cython/_cygrpc/aio/completion_queue.pyx.pxi\", line 147, in \n",
       "grpc._cython.cygrpc.PollerCompletionQueue._handle_events\n",
       "BlockingIOError: [Errno 35] Resource temporarily unavailable\n",
       "</pre>\n"
      ],
      "text/plain": [
       "Exception in callback PollerCompletionQueue._handle_events()()\n",
       "handle: <Handle PollerCompletionQueue._handle_events()()>\n",
       "Traceback (most recent call last):\n",
       "  File \n",
       "\"/Users/johnvotta/.local/share/uv/python/cpython-3.13.0-macos-aarch64-none/lib/python3.13/asyncio/events.py\", line \n",
       "89, in _run\n",
       "    self._context.run(self._callback, *self._args)\n",
       "    ~~~~~~~~~~~~~~~~~^^^^^^^^^^^^^^^^^^^^^^^^^^^^^\n",
       "  File \"src/python/grpcio/grpc/_cython/_cygrpc/aio/completion_queue.pyx.pxi\", line 147, in \n",
       "grpc._cython.cygrpc.PollerCompletionQueue._handle_events\n",
       "BlockingIOError: [Errno 35] Resource temporarily unavailable\n"
      ]
     },
     "metadata": {},
     "output_type": "display_data"
    },
    {
     "data": {
      "text/html": [
       "<pre style=\"white-space:pre;overflow-x:auto;line-height:normal;font-family:Menlo,'DejaVu Sans Mono',consolas,'Courier New',monospace\">Exception in callback PollerCompletionQueue._handle_events()()\n",
       "handle: &lt;Handle PollerCompletionQueue._handle_events()()&gt;\n",
       "Traceback (most recent call last):\n",
       "  File \n",
       "\"/Users/johnvotta/.local/share/uv/python/cpython-3.13.0-macos-aarch64-none/lib/python3.13/asyncio/events.py\", line \n",
       "89, in _run\n",
       "    self._context.run(self._callback, *self._args)\n",
       "    ~~~~~~~~~~~~~~~~~^^^^^^^^^^^^^^^^^^^^^^^^^^^^^\n",
       "  File \"src/python/grpcio/grpc/_cython/_cygrpc/aio/completion_queue.pyx.pxi\", line 147, in \n",
       "grpc._cython.cygrpc.PollerCompletionQueue._handle_events\n",
       "BlockingIOError: [Errno 35] Resource temporarily unavailable\n",
       "</pre>\n"
      ],
      "text/plain": [
       "Exception in callback PollerCompletionQueue._handle_events()()\n",
       "handle: <Handle PollerCompletionQueue._handle_events()()>\n",
       "Traceback (most recent call last):\n",
       "  File \n",
       "\"/Users/johnvotta/.local/share/uv/python/cpython-3.13.0-macos-aarch64-none/lib/python3.13/asyncio/events.py\", line \n",
       "89, in _run\n",
       "    self._context.run(self._callback, *self._args)\n",
       "    ~~~~~~~~~~~~~~~~~^^^^^^^^^^^^^^^^^^^^^^^^^^^^^\n",
       "  File \"src/python/grpcio/grpc/_cython/_cygrpc/aio/completion_queue.pyx.pxi\", line 147, in \n",
       "grpc._cython.cygrpc.PollerCompletionQueue._handle_events\n",
       "BlockingIOError: [Errno 35] Resource temporarily unavailable\n"
      ]
     },
     "metadata": {},
     "output_type": "display_data"
    },
    {
     "data": {
      "text/html": [
       "<pre style=\"white-space:pre;overflow-x:auto;line-height:normal;font-family:Menlo,'DejaVu Sans Mono',consolas,'Courier New',monospace\">Exception in callback PollerCompletionQueue._handle_events()()\n",
       "handle: &lt;Handle PollerCompletionQueue._handle_events()()&gt;\n",
       "Traceback (most recent call last):\n",
       "  File \n",
       "\"/Users/johnvotta/.local/share/uv/python/cpython-3.13.0-macos-aarch64-none/lib/python3.13/asyncio/events.py\", line \n",
       "89, in _run\n",
       "    self._context.run(self._callback, *self._args)\n",
       "    ~~~~~~~~~~~~~~~~~^^^^^^^^^^^^^^^^^^^^^^^^^^^^^\n",
       "  File \"src/python/grpcio/grpc/_cython/_cygrpc/aio/completion_queue.pyx.pxi\", line 147, in \n",
       "grpc._cython.cygrpc.PollerCompletionQueue._handle_events\n",
       "BlockingIOError: [Errno 35] Resource temporarily unavailable\n",
       "</pre>\n"
      ],
      "text/plain": [
       "Exception in callback PollerCompletionQueue._handle_events()()\n",
       "handle: <Handle PollerCompletionQueue._handle_events()()>\n",
       "Traceback (most recent call last):\n",
       "  File \n",
       "\"/Users/johnvotta/.local/share/uv/python/cpython-3.13.0-macos-aarch64-none/lib/python3.13/asyncio/events.py\", line \n",
       "89, in _run\n",
       "    self._context.run(self._callback, *self._args)\n",
       "    ~~~~~~~~~~~~~~~~~^^^^^^^^^^^^^^^^^^^^^^^^^^^^^\n",
       "  File \"src/python/grpcio/grpc/_cython/_cygrpc/aio/completion_queue.pyx.pxi\", line 147, in \n",
       "grpc._cython.cygrpc.PollerCompletionQueue._handle_events\n",
       "BlockingIOError: [Errno 35] Resource temporarily unavailable\n"
      ]
     },
     "metadata": {},
     "output_type": "display_data"
    },
    {
     "data": {
      "text/html": [
       "<pre style=\"white-space:pre;overflow-x:auto;line-height:normal;font-family:Menlo,'DejaVu Sans Mono',consolas,'Courier New',monospace\"></pre>\n"
      ],
      "text/plain": []
     },
     "metadata": {},
     "output_type": "display_data"
    },
    {
     "data": {
      "text/html": [
       "<pre style=\"white-space:pre;overflow-x:auto;line-height:normal;font-family:Menlo,'DejaVu Sans Mono',consolas,'Courier New',monospace\">Scrolled <span style=\"color: #008080; text-decoration-color: #008080; font-weight: bold\">5</span> lines of logs.\n",
       "</pre>\n"
      ],
      "text/plain": [
       "Scrolled \u001b[1;36m5\u001b[0m lines of logs.\n"
      ]
     },
     "metadata": {},
     "output_type": "display_data"
    }
   ],
   "source": [
    "await run.show_logs()"
   ]
  },
  {
   "cell_type": "code",
   "execution_count": 10,
   "id": "a4dcbf99-efa0-4c9a-a249-b2dc1653979b",
   "metadata": {},
   "outputs": [
    {
     "data": {
      "text/plain": [
       "RunDetails(\n",
       "    labels='',\n",
       "    annotations='',\n",
       "    env-vars='values {\\n  key: \"LOG_LEVEL\"\\n  value: \"30\"\\n}\\n',\n",
       "    is-interruptible='',\n",
       "    cache-overwrite=False,\n",
       "    name='rdjbd6qr4zlzt6rv2sfr',\n",
       "    start_time='2025-08-14T13:38:05.956024+00:00',\n",
       "    end_time='2025-08-14T13:38:42+00:00',\n",
       "    run_time='36 secs',\n",
       "    phase='PHASE_SUCCEEDED',\n",
       "    error='NA',\n",
       "    task='env.hello_driver',\n",
       "    task_type='python',\n",
       "    task_version='3a1ac802d45144621933e15d5445e40a',\n",
       "    attempts=[],\n",
       "    error='NA',\n",
       "    phase='PHASE_SUCCEEDED',\n",
       "    group='',\n",
       "    parent=''\n",
       ")"
      ]
     },
     "execution_count": 10,
     "metadata": {},
     "output_type": "execute_result"
    }
   ],
   "source": [
    "run.details()"
   ]
  },
  {
   "cell_type": "code",
   "execution_count": 11,
   "id": "517ebb71-9e8a-4940-9028-435f901a970f",
   "metadata": {},
   "outputs": [],
   "source": [
    "actions = [a.name for a in remote.Action.listall(for_run_name=run.name)]"
   ]
  },
  {
   "cell_type": "code",
   "execution_count": 12,
   "id": "54d281f5-25e2-4e63-8d98-79eaecabfeb4",
   "metadata": {},
   "outputs": [
    {
     "data": {
      "text/plain": [
       "['a0',\n",
       " 'cc7jf2aduosrhbxnqd5elmgyk',\n",
       " '65qbmypbbw9atj1q9mjlu9qx8',\n",
       " '8087j4ribug7v1d8wtd4aowy8',\n",
       " '3ijl23j3wmhrtqabnxktrvtb5',\n",
       " 'b4iydidzk1mnb0o41rsr22i0i']"
      ]
     },
     "execution_count": 12,
     "metadata": {},
     "output_type": "execute_result"
    }
   ],
   "source": [
    "actions"
   ]
  },
  {
   "cell_type": "code",
   "execution_count": 13,
   "id": "b60e3965-6ef2-452e-acaa-7ad25f144b0b",
   "metadata": {},
   "outputs": [
    {
     "data": {
      "text/html": [
       "<pre style=\"white-space:pre;overflow-x:auto;line-height:normal;font-family:Menlo,'DejaVu Sans Mono',consolas,'Courier New',monospace\"><span style=\"color: #7f7f7f; text-decoration-color: #7f7f7f\"> hello, my id is: 1 and I am being run by Action: ActionID('bbnt6kwprld4km8wi753mtvnu', </span>\n",
       "<span style=\"color: #7f7f7f; text-decoration-color: #7f7f7f\">run_name='r9wvncwtz2v42qs6sgv6', project='flytesnacks', domain='development', org='demo')</span>\n",
       "</pre>\n"
      ],
      "text/plain": [
       "\u001b[2m hello, my id is: 1 and I am being run by Action: ActionID('bbnt6kwprld4km8wi753mtvnu', \u001b[0m\n",
       "\u001b[2mrun_name='r9wvncwtz2v42qs6sgv6', project='flytesnacks', domain='development', org='demo')\u001b[0m\n"
      ]
     },
     "metadata": {},
     "output_type": "display_data"
    }
   ],
   "source": [
    "await remote.Action.get(run_name=\"r9wvncwtz2v42qs6sgv6\", name=\"bbnt6kwprld4km8wi753mtvnu\").show_logs(raw=True)"
   ]
  },
  {
   "cell_type": "code",
   "execution_count": 14,
   "id": "9b74010d-6c7f-41a7-a4e3-aca458afef4c",
   "metadata": {},
   "outputs": [
    {
     "data": {
      "text/html": [
       "<pre style=\"white-space:pre;overflow-x:auto;line-height:normal;font-family:Menlo,'DejaVu Sans Mono',consolas,'Courier New',monospace\"><span style=\"color: #008080; text-decoration-color: #008080\"> working with id: 1</span>\n",
       "</pre>\n"
      ],
      "text/plain": [
       "\u001b[36m working with id: 1\u001b[0m\n"
      ]
     },
     "metadata": {},
     "output_type": "display_data"
    },
    {
     "data": {
      "text/html": [
       "<pre style=\"white-space:pre;overflow-x:auto;line-height:normal;font-family:Menlo,'DejaVu Sans Mono',consolas,'Courier New',monospace\"><span style=\"color: #008080; text-decoration-color: #008080\"> working with id: 2</span>\n",
       "</pre>\n"
      ],
      "text/plain": [
       "\u001b[36m working with id: 2\u001b[0m\n"
      ]
     },
     "metadata": {},
     "output_type": "display_data"
    },
    {
     "data": {
      "text/html": [
       "<pre style=\"white-space:pre;overflow-x:auto;line-height:normal;font-family:Menlo,'DejaVu Sans Mono',consolas,'Courier New',monospace\"><span style=\"color: #008080; text-decoration-color: #008080\"> working with id: 3</span>\n",
       "</pre>\n"
      ],
      "text/plain": [
       "\u001b[36m working with id: 3\u001b[0m\n"
      ]
     },
     "metadata": {},
     "output_type": "display_data"
    },
    {
     "data": {
      "text/html": [
       "<pre style=\"white-space:pre;overflow-x:auto;line-height:normal;font-family:Menlo,'DejaVu Sans Mono',consolas,'Courier New',monospace\"><span style=\"color: #008080; text-decoration-color: #008080\"> working with id: 4</span>\n",
       "</pre>\n"
      ],
      "text/plain": [
       "\u001b[36m working with id: 4\u001b[0m\n"
      ]
     },
     "metadata": {},
     "output_type": "display_data"
    },
    {
     "data": {
      "text/html": [
       "<pre style=\"white-space:pre;overflow-x:auto;line-height:normal;font-family:Menlo,'DejaVu Sans Mono',consolas,'Courier New',monospace\"><span style=\"color: #008080; text-decoration-color: #008080\"> working with id: 5</span>\n",
       "</pre>\n"
      ],
      "text/plain": [
       "\u001b[36m working with id: 5\u001b[0m\n"
      ]
     },
     "metadata": {},
     "output_type": "display_data"
    },
    {
     "ename": "AioRpcError",
     "evalue": "<AioRpcError of RPC that terminated with:\n\tstatus = StatusCode.NOT_FOUND\n\tdetails = \"missing entity of type Action with identifier {demo demo flytesnacks development r9wvncwtz2v42qs6sgv6 cc7jf2aduosrhbxnqd5elmgyk}\"\n\tdebug_error_string = \"UNKNOWN:Error received from peer ipv4:3.19.82.116:443 {grpc_status:5, grpc_message:\"missing entity of type Action with identifier {demo demo flytesnacks development r9wvncwtz2v42qs6sgv6 cc7jf2aduosrhbxnqd5elmgyk}\"}\"\n>",
     "output_type": "error",
     "traceback": [
      "\u001b[31m---------------------------------------------------------------------------\u001b[39m",
      "\u001b[31mAioRpcError\u001b[39m                               Traceback (most recent call last)",
      "\u001b[36mCell\u001b[39m\u001b[36m \u001b[39m\u001b[32mIn[14]\u001b[39m\u001b[32m, line 2\u001b[39m\n\u001b[32m      1\u001b[39m \u001b[38;5;28;01mfor\u001b[39;00m action \u001b[38;5;129;01min\u001b[39;00m remote.Action.listall(for_run_name=run.name):\n\u001b[32m----> \u001b[39m\u001b[32m2\u001b[39m     \u001b[38;5;28;01mawait\u001b[39;00m \u001b[43mremote\u001b[49m\u001b[43m.\u001b[49m\u001b[43mAction\u001b[49m\u001b[43m.\u001b[49m\u001b[43mget\u001b[49m\u001b[43m(\u001b[49m\u001b[43mrun_name\u001b[49m\u001b[43m=\u001b[49m\u001b[33;43m\"\u001b[39;49m\u001b[33;43mr9wvncwtz2v42qs6sgv6\u001b[39;49m\u001b[33;43m\"\u001b[39;49m\u001b[43m,\u001b[49m\u001b[43m \u001b[49m\u001b[43mname\u001b[49m\u001b[43m=\u001b[49m\u001b[43maction\u001b[49m\u001b[43m.\u001b[49m\u001b[43mname\u001b[49m\u001b[43m)\u001b[49m.show_logs(raw=\u001b[38;5;28;01mTrue\u001b[39;00m)\n",
      "\u001b[36mFile \u001b[39m\u001b[32m~/code/flyte-sdk/.venv/lib/python3.13/site-packages/flyte/syncify/_api.py:270\u001b[39m, in \u001b[36m_SyncWrapper.__call__\u001b[39m\u001b[34m(self, *args, **kwargs)\u001b[39m\n\u001b[32m    268\u001b[39m             \u001b[38;5;28;01mbreak\u001b[39;00m\n\u001b[32m    269\u001b[39m         tb = tb.tb_next\n\u001b[32m--> \u001b[39m\u001b[32m270\u001b[39m     \u001b[38;5;28;01mraise\u001b[39;00m e.with_traceback(tb)\n\u001b[32m    271\u001b[39m \u001b[38;5;66;03m# If the log level is DEBUG, we will keep the extra stack frames to help with debugging\u001b[39;00m\n\u001b[32m    272\u001b[39m \u001b[38;5;28;01mraise\u001b[39;00m e\n",
      "\u001b[36mFile \u001b[39m\u001b[32m~/code/flyte-sdk/.venv/lib/python3.13/site-packages/flyte/remote/_action.py:197\u001b[39m, in \u001b[36mAction.get\u001b[39m\u001b[34m(cls, uri, run_name, name)\u001b[39m\n\u001b[32m    195\u001b[39m ensure_client()\n\u001b[32m    196\u001b[39m cfg = get_common_config()\n\u001b[32m--> \u001b[39m\u001b[32m197\u001b[39m details: ActionDetails = \u001b[38;5;28;01mawait\u001b[39;00m ActionDetails.get_details.aio(\n\u001b[32m    198\u001b[39m     identifier_pb2.ActionIdentifier(\n\u001b[32m    199\u001b[39m         run=identifier_pb2.RunIdentifier(\n\u001b[32m    200\u001b[39m             org=cfg.org,\n\u001b[32m    201\u001b[39m             project=cfg.project,\n\u001b[32m    202\u001b[39m             domain=cfg.domain,\n\u001b[32m    203\u001b[39m             name=run_name,\n\u001b[32m    204\u001b[39m         ),\n\u001b[32m    205\u001b[39m         name=name,\n\u001b[32m    206\u001b[39m     ),\n\u001b[32m    207\u001b[39m )\n\u001b[32m    208\u001b[39m \u001b[38;5;28;01mreturn\u001b[39;00m \u001b[38;5;28mcls\u001b[39m(\n\u001b[32m    209\u001b[39m     pb2=run_definition_pb2.Action(\n\u001b[32m    210\u001b[39m         \u001b[38;5;28mid\u001b[39m=details.action_id,\n\u001b[32m   (...)\u001b[39m\u001b[32m    214\u001b[39m     _details=details,\n\u001b[32m    215\u001b[39m )\n",
      "\u001b[36mFile \u001b[39m\u001b[32m~/code/flyte-sdk/.venv/lib/python3.13/site-packages/flyte/syncify/_api.py:187\u001b[39m, in \u001b[36m_BackgroundLoop.aio\u001b[39m\u001b[34m(self, coro)\u001b[39m\n\u001b[32m    182\u001b[39m \u001b[38;5;250m\u001b[39m\u001b[33;03m\"\"\"\u001b[39;00m\n\u001b[32m    183\u001b[39m \u001b[33;03mRun the given coroutine in the background loop and return its result.\u001b[39;00m\n\u001b[32m    184\u001b[39m \u001b[33;03m\"\"\"\u001b[39;00m\n\u001b[32m    185\u001b[39m \u001b[38;5;28;01mif\u001b[39;00m \u001b[38;5;28mself\u001b[39m.is_in_loop():\n\u001b[32m    186\u001b[39m     \u001b[38;5;66;03m# If we are already in the background loop, just run the coroutine\u001b[39;00m\n\u001b[32m--> \u001b[39m\u001b[32m187\u001b[39m     \u001b[38;5;28;01mreturn\u001b[39;00m \u001b[38;5;28;01mawait\u001b[39;00m coro\n\u001b[32m    188\u001b[39m \u001b[38;5;28;01mtry\u001b[39;00m:\n\u001b[32m    189\u001b[39m     \u001b[38;5;66;03m# Otherwise, run it in the background loop and wait for the result\u001b[39;00m\n\u001b[32m    190\u001b[39m     future: concurrent.futures.Future[R_co] = asyncio.run_coroutine_threadsafe(coro, \u001b[38;5;28mself\u001b[39m.loop)\n",
      "\u001b[36mFile \u001b[39m\u001b[32m~/code/flyte-sdk/.venv/lib/python3.13/site-packages/flyte/remote/_action.py:431\u001b[39m, in \u001b[36mActionDetails.get_details\u001b[39m\u001b[34m(cls, action_id)\u001b[39m\n\u001b[32m    427\u001b[39m \u001b[38;5;250m\u001b[39m\u001b[33;03m\"\"\"\u001b[39;00m\n\u001b[32m    428\u001b[39m \u001b[33;03mGet the details of the action. This is a placeholder for getting the action details.\u001b[39;00m\n\u001b[32m    429\u001b[39m \u001b[33;03m\"\"\"\u001b[39;00m\n\u001b[32m    430\u001b[39m ensure_client()\n\u001b[32m--> \u001b[39m\u001b[32m431\u001b[39m resp = \u001b[38;5;28;01mawait\u001b[39;00m get_client().run_service.GetActionDetails(\n\u001b[32m    432\u001b[39m     run_service_pb2.GetActionDetailsRequest(\n\u001b[32m    433\u001b[39m         action_id=action_id,\n\u001b[32m    434\u001b[39m     )\n\u001b[32m    435\u001b[39m )\n\u001b[32m    436\u001b[39m \u001b[38;5;28;01mreturn\u001b[39;00m ActionDetails(resp.details)\n",
      "\u001b[36mFile \u001b[39m\u001b[32m~/code/flyte-sdk/.venv/lib/python3.13/site-packages/grpc/aio/_interceptor.py:471\u001b[39m, in \u001b[36m_InterceptedUnaryResponseMixin.__await__\u001b[39m\u001b[34m(self)\u001b[39m\n\u001b[32m    470\u001b[39m \u001b[38;5;28;01mdef\u001b[39;00m\u001b[38;5;250m \u001b[39m\u001b[34m__await__\u001b[39m(\u001b[38;5;28mself\u001b[39m):\n\u001b[32m--> \u001b[39m\u001b[32m471\u001b[39m     call = \u001b[38;5;28;01myield from\u001b[39;00m \u001b[38;5;28mself\u001b[39m._interceptors_task.\u001b[34m__await__\u001b[39m()\n\u001b[32m    472\u001b[39m     response = \u001b[38;5;28;01myield from\u001b[39;00m call.\u001b[34m__await__\u001b[39m()\n\u001b[32m    473\u001b[39m     \u001b[38;5;28;01mreturn\u001b[39;00m response\n",
      "\u001b[36mFile \u001b[39m\u001b[32m~/code/flyte-sdk/.venv/lib/python3.13/site-packages/grpc/aio/_interceptor.py:701\u001b[39m, in \u001b[36mInterceptedUnaryUnaryCall._invoke\u001b[39m\u001b[34m(self, interceptors, method, timeout, metadata, credentials, wait_for_ready, request, request_serializer, response_deserializer)\u001b[39m\n\u001b[32m    685\u001b[39m         \u001b[38;5;28;01mreturn\u001b[39;00m UnaryUnaryCall(\n\u001b[32m    686\u001b[39m             request,\n\u001b[32m    687\u001b[39m             _timeout_to_deadline(client_call_details.timeout),\n\u001b[32m   (...)\u001b[39m\u001b[32m    695\u001b[39m             \u001b[38;5;28mself\u001b[39m._loop,\n\u001b[32m    696\u001b[39m         )\n\u001b[32m    698\u001b[39m client_call_details = ClientCallDetails(\n\u001b[32m    699\u001b[39m     method, timeout, metadata, credentials, wait_for_ready\n\u001b[32m    700\u001b[39m )\n\u001b[32m--> \u001b[39m\u001b[32m701\u001b[39m \u001b[38;5;28;01mreturn\u001b[39;00m \u001b[38;5;28;01mawait\u001b[39;00m _run_interceptor(\n\u001b[32m    702\u001b[39m     \u001b[38;5;28mlist\u001b[39m(interceptors), client_call_details, request\n\u001b[32m    703\u001b[39m )\n",
      "\u001b[36mFile \u001b[39m\u001b[32m~/code/flyte-sdk/.venv/lib/python3.13/site-packages/grpc/aio/_interceptor.py:675\u001b[39m, in \u001b[36mInterceptedUnaryUnaryCall._invoke.<locals>._run_interceptor\u001b[39m\u001b[34m(interceptors, client_call_details, request)\u001b[39m\n\u001b[32m    671\u001b[39m \u001b[38;5;28;01mif\u001b[39;00m interceptors:\n\u001b[32m    672\u001b[39m     continuation = functools.partial(\n\u001b[32m    673\u001b[39m         _run_interceptor, interceptors[\u001b[32m1\u001b[39m:]\n\u001b[32m    674\u001b[39m     )\n\u001b[32m--> \u001b[39m\u001b[32m675\u001b[39m     call_or_response = \u001b[38;5;28;01mawait\u001b[39;00m interceptors[\u001b[32m0\u001b[39m].intercept_unary_unary(\n\u001b[32m    676\u001b[39m         continuation, client_call_details, request\n\u001b[32m    677\u001b[39m     )\n\u001b[32m    679\u001b[39m     \u001b[38;5;28;01mif\u001b[39;00m \u001b[38;5;28misinstance\u001b[39m(call_or_response, _base_call.UnaryUnaryCall):\n\u001b[32m    680\u001b[39m         \u001b[38;5;28;01mreturn\u001b[39;00m call_or_response\n",
      "\u001b[36mFile \u001b[39m\u001b[32m~/code/flyte-sdk/.venv/lib/python3.13/site-packages/flyte/remote/_client/auth/_grpc_utils/default_metadata_interceptor.py:69\u001b[39m, in \u001b[36mDefaultMetadataUnaryUnaryInterceptor.intercept_unary_unary\u001b[39m\u001b[34m(self, continuation, client_call_details, request)\u001b[39m\n\u001b[32m     57\u001b[39m \u001b[38;5;250m\u001b[39m\u001b[33;03m\"\"\"\u001b[39;00m\n\u001b[32m     58\u001b[39m \u001b[33;03mIntercepts unary-unary calls and injects default metadata.\u001b[39;00m\n\u001b[32m     59\u001b[39m \n\u001b[32m   (...)\u001b[39m\u001b[32m     66\u001b[39m \u001b[33;03m:return: The response from the RPC call\u001b[39;00m\n\u001b[32m     67\u001b[39m \u001b[33;03m\"\"\"\u001b[39;00m\n\u001b[32m     68\u001b[39m updated_call_details = \u001b[38;5;28;01mawait\u001b[39;00m \u001b[38;5;28mself\u001b[39m._inject_default_metadata(client_call_details)\n\u001b[32m---> \u001b[39m\u001b[32m69\u001b[39m \u001b[38;5;28;01mreturn\u001b[39;00m \u001b[38;5;28;01mawait\u001b[39;00m (\u001b[38;5;28;01mawait\u001b[39;00m continuation(updated_call_details, request))\n",
      "\u001b[36mFile \u001b[39m\u001b[32m~/code/flyte-sdk/.venv/lib/python3.13/site-packages/grpc/aio/_interceptor.py:675\u001b[39m, in \u001b[36mInterceptedUnaryUnaryCall._invoke.<locals>._run_interceptor\u001b[39m\u001b[34m(interceptors, client_call_details, request)\u001b[39m\n\u001b[32m    671\u001b[39m \u001b[38;5;28;01mif\u001b[39;00m interceptors:\n\u001b[32m    672\u001b[39m     continuation = functools.partial(\n\u001b[32m    673\u001b[39m         _run_interceptor, interceptors[\u001b[32m1\u001b[39m:]\n\u001b[32m    674\u001b[39m     )\n\u001b[32m--> \u001b[39m\u001b[32m675\u001b[39m     call_or_response = \u001b[38;5;28;01mawait\u001b[39;00m interceptors[\u001b[32m0\u001b[39m].intercept_unary_unary(\n\u001b[32m    676\u001b[39m         continuation, client_call_details, request\n\u001b[32m    677\u001b[39m     )\n\u001b[32m    679\u001b[39m     \u001b[38;5;28;01mif\u001b[39;00m \u001b[38;5;28misinstance\u001b[39m(call_or_response, _base_call.UnaryUnaryCall):\n\u001b[32m    680\u001b[39m         \u001b[38;5;28;01mreturn\u001b[39;00m call_or_response\n",
      "\u001b[36mFile \u001b[39m\u001b[32m~/code/flyte-sdk/.venv/lib/python3.13/site-packages/flyte/remote/_client/auth/_grpc_utils/auth_interceptor.py:83\u001b[39m, in \u001b[36mAuthUnaryUnaryInterceptor.intercept_unary_unary\u001b[39m\u001b[34m(self, continuation, client_call_details, request)\u001b[39m\n\u001b[32m     81\u001b[39m     \u001b[38;5;28;01mreturn\u001b[39;00m \u001b[38;5;28;01mawait\u001b[39;00m (\u001b[38;5;28;01mawait\u001b[39;00m continuation(updated_call_details, request))\n\u001b[32m     82\u001b[39m \u001b[38;5;28;01melse\u001b[39;00m:\n\u001b[32m---> \u001b[39m\u001b[32m83\u001b[39m     \u001b[38;5;28;01mraise\u001b[39;00m e\n",
      "\u001b[36mFile \u001b[39m\u001b[32m~/code/flyte-sdk/.venv/lib/python3.13/site-packages/flyte/remote/_client/auth/_grpc_utils/auth_interceptor.py:76\u001b[39m, in \u001b[36mAuthUnaryUnaryInterceptor.intercept_unary_unary\u001b[39m\u001b[34m(self, continuation, client_call_details, request)\u001b[39m\n\u001b[32m     74\u001b[39m updated_call_details, creds_id = \u001b[38;5;28;01mawait\u001b[39;00m \u001b[38;5;28mself\u001b[39m.call_details_with_auth_metadata(client_call_details)\n\u001b[32m     75\u001b[39m \u001b[38;5;28;01mtry\u001b[39;00m:\n\u001b[32m---> \u001b[39m\u001b[32m76\u001b[39m     \u001b[38;5;28;01mreturn\u001b[39;00m \u001b[38;5;28;01mawait\u001b[39;00m (\u001b[38;5;28;01mawait\u001b[39;00m continuation(updated_call_details, request))\n\u001b[32m     77\u001b[39m \u001b[38;5;28;01mexcept\u001b[39;00m grpc.aio.AioRpcError \u001b[38;5;28;01mas\u001b[39;00m e:\n\u001b[32m     78\u001b[39m     \u001b[38;5;28;01mif\u001b[39;00m e.code() == grpc.StatusCode.UNAUTHENTICATED \u001b[38;5;129;01mor\u001b[39;00m e.code() == grpc.StatusCode.UNKNOWN:\n",
      "\u001b[36mFile \u001b[39m\u001b[32m~/code/flyte-sdk/.venv/lib/python3.13/site-packages/grpc/aio/_call.py:327\u001b[39m, in \u001b[36m_UnaryResponseMixin.__await__\u001b[39m\u001b[34m(self)\u001b[39m\n\u001b[32m    325\u001b[39m         \u001b[38;5;28;01mraise\u001b[39;00m asyncio.CancelledError()\n\u001b[32m    326\u001b[39m     \u001b[38;5;28;01melse\u001b[39;00m:\n\u001b[32m--> \u001b[39m\u001b[32m327\u001b[39m         \u001b[38;5;28;01mraise\u001b[39;00m _create_rpc_error(\n\u001b[32m    328\u001b[39m             \u001b[38;5;28mself\u001b[39m._cython_call._initial_metadata,\n\u001b[32m    329\u001b[39m             \u001b[38;5;28mself\u001b[39m._cython_call._status,\n\u001b[32m    330\u001b[39m         )\n\u001b[32m    331\u001b[39m \u001b[38;5;28;01melse\u001b[39;00m:\n\u001b[32m    332\u001b[39m     \u001b[38;5;28;01mreturn\u001b[39;00m response\n",
      "\u001b[31mAioRpcError\u001b[39m: <AioRpcError of RPC that terminated with:\n\tstatus = StatusCode.NOT_FOUND\n\tdetails = \"missing entity of type Action with identifier {demo demo flytesnacks development r9wvncwtz2v42qs6sgv6 cc7jf2aduosrhbxnqd5elmgyk}\"\n\tdebug_error_string = \"UNKNOWN:Error received from peer ipv4:3.19.82.116:443 {grpc_status:5, grpc_message:\"missing entity of type Action with identifier {demo demo flytesnacks development r9wvncwtz2v42qs6sgv6 cc7jf2aduosrhbxnqd5elmgyk}\"}\"\n>"
     ]
    }
   ],
   "source": [
    "for action in remote.Action.listall(for_run_name=run.name):\n",
    "    await remote.Action.get(run_name=\"r9wvncwtz2v42qs6sgv6\", name=action.name).show_logs(raw=True)"
   ]
  },
  {
   "cell_type": "code",
   "execution_count": null,
   "id": "41747aa9-3648-4d58-a773-296ff03fa0bb",
   "metadata": {},
   "outputs": [],
   "source": []
  }
 ],
 "metadata": {
  "kernelspec": {
   "display_name": "Python 3 (ipykernel)",
   "language": "python",
   "name": "python3"
  },
  "language_info": {
   "codemirror_mode": {
    "name": "ipython",
    "version": 3
   },
   "file_extension": ".py",
   "mimetype": "text/x-python",
   "name": "python",
   "nbconvert_exporter": "python",
   "pygments_lexer": "ipython3",
   "version": "3.13.0"
  }
 },
 "nbformat": 4,
 "nbformat_minor": 5
}
