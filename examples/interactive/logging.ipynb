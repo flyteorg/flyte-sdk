{
 "cells": [
  {
   "cell_type": "code",
   "execution_count": 36,
   "id": "09ebf6e8-a810-41a8-a254-081cfdb17584",
   "metadata": {},
   "outputs": [],
   "source": [
    "import flyte\n",
    "import flyte.remote as remote\n",
    "\n",
    "import asyncio\n",
    "from typing import List"
   ]
  },
  {
   "cell_type": "code",
   "execution_count": 37,
   "id": "37618f8c-cb7a-4069-b1d8-08f63f938a0b",
   "metadata": {},
   "outputs": [],
   "source": [
    "flyte.init_from_config(\"../../config.yaml\")"
   ]
  },
  {
   "cell_type": "code",
   "execution_count": 38,
   "id": "d4a1f67b-97d4-4094-b7e9-82a7b014ff4b",
   "metadata": {},
   "outputs": [],
   "source": [
    "env = flyte.TaskEnvironment(\n",
    "    name=\"env\",\n",
    "    image=flyte.Image\n",
    "        .from_debian_base()\n",
    "        .with_pip_packages(\"pandas\", \"requests\"),\n",
    ")"
   ]
  },
  {
   "cell_type": "code",
   "execution_count": 39,
   "id": "c0a1c16b-26f4-44b2-939a-df9abcb7a71e",
   "metadata": {},
   "outputs": [],
   "source": [
    "@env.task()\n",
    "async def hello_worker(id: int) -> str:\n",
    "    print(f\"hello, my id is: {id} and I am being run by Action: {flyte.ctx().action}\")\n",
    "    return str(id)\n"
   ]
  },
  {
   "cell_type": "code",
   "execution_count": 40,
   "id": "cb9f9cc9-8667-46c4-abd3-555cb8a075d4",
   "metadata": {},
   "outputs": [],
   "source": [
    "@env.task()\n",
    "async def hello_driver(ids: List[int] = [1, 2, 3]) -> List[str]:\n",
    "    coros = []\n",
    "    with flyte.group(\"fanout-group\"):\n",
    "        for id in ids:\n",
    "            coros.append(hello_worker(id))\n",
    "            print(f\"working with id: {id}\")\n",
    "\n",
    "        vals = await asyncio.gather(*coros)\n",
    "\n",
    "    return vals"
   ]
  },
  {
   "cell_type": "code",
   "execution_count": 41,
   "id": "cbf06ba1-9a8f-419e-b823-bcfed8cd2cbe",
   "metadata": {},
   "outputs": [
    {
     "data": {
      "text/html": [
       "<pre style=\"white-space:pre;overflow-x:auto;line-height:normal;font-family:Menlo,'DejaVu Sans Mono',consolas,'Courier New',monospace\"><span style=\"color: #7fbfbf; text-decoration-color: #7fbfbf\">12:31:39.464309 </span><span style=\"color: #808000; text-decoration-color: #808000\">WARNING </span> _deploy.py:<span style=\"color: #008080; text-decoration-color: #008080; font-weight: bold\">159</span> - Built Image for environment env, image:                                                                               \n",
       "<span style=\"color: #7fbfbf; text-decoration-color: #7fbfbf\">                </span>         <span style=\"color: #008080; text-decoration-color: #008080; font-weight: bold\">356633062068.</span>dkr.ecr.us-east-<span style=\"color: #008080; text-decoration-color: #008080; font-weight: bold\">2.</span>amazonaws.com/union/demo:flyte-d57df1157dcd010a7c4cd3e839a347ee                                         \n",
       "</pre>\n"
      ],
      "text/plain": [
       "\u001b[2;36m12:31:39.464309\u001b[0m\u001b[2;36m \u001b[0m\u001b[33mWARNING \u001b[0m _deploy.py:\u001b[1;36m159\u001b[0m - Built Image for environment env, image:                                                                               \n",
       "\u001b[2;36m                \u001b[0m         \u001b[1;36m356633062068.\u001b[0mdkr.ecr.us-east-\u001b[1;36m2.\u001b[0mamazonaws.com/union/demo:flyte-d57df1157dcd010a7c4cd3e839a347ee                                         \n"
      ]
     },
     "metadata": {},
     "output_type": "display_data"
    }
   ],
   "source": [
    "run = await flyte.run.aio(hello_driver, ids=[1, 2, 3, 4, 5])"
   ]
  },
  {
   "cell_type": "code",
   "execution_count": 42,
   "id": "76c3d189-8201-413e-9d50-0f3fd511d36a",
   "metadata": {},
   "outputs": [
    {
     "data": {
      "text/plain": [
       "'https://demo.hosted.unionai.cloud/v2/runs/project/flytesnacks/domain/development/r9wvncwtz2v42qs6sgv6'"
      ]
     },
     "execution_count": 42,
     "metadata": {},
     "output_type": "execute_result"
    }
   ],
   "source": [
    "run.url"
   ]
  },
  {
   "cell_type": "code",
   "execution_count": 43,
   "id": "af0982fa-22f3-4825-8e96-72e0ea7d5782",
   "metadata": {},
   "outputs": [
    {
     "data": {
      "text/plain": [
       "'r9wvncwtz2v42qs6sgv6'"
      ]
     },
     "execution_count": 43,
     "metadata": {},
     "output_type": "execute_result"
    }
   ],
   "source": [
    "run.name"
   ]
  },
  {
   "cell_type": "code",
   "execution_count": 44,
   "id": "a3b9d904-929a-4171-8b53-d6e0717d689e",
   "metadata": {},
   "outputs": [
    {
     "data": {
      "text/html": [
       "<pre style=\"white-space:pre;overflow-x:auto;line-height:normal;font-family:Menlo,'DejaVu Sans Mono',consolas,'Courier New',monospace\"><span style=\"color: #008080; text-decoration-color: #008080\"> working with id: 1</span>\n",
       "<span style=\"color: #008080; text-decoration-color: #008080\"> working with id: 2</span>\n",
       "<span style=\"color: #008080; text-decoration-color: #008080\"> working with id: 3</span>\n",
       "<span style=\"color: #008080; text-decoration-color: #008080\"> working with id: 4</span>\n",
       "<span style=\"color: #008080; text-decoration-color: #008080\"> working with id: 5</span>\n",
       "\n",
       "</pre>\n"
      ],
      "text/plain": [
       "\u001b[36m working with id: 1\u001b[0m\n",
       "\u001b[36m working with id: 2\u001b[0m\n",
       "\u001b[36m working with id: 3\u001b[0m\n",
       "\u001b[36m working with id: 4\u001b[0m\n",
       "\u001b[36m working with id: 5\u001b[0m\n",
       "\n"
      ]
     },
     "metadata": {},
     "output_type": "display_data"
    },
    {
     "data": {
      "text/html": [
       "<pre style=\"white-space:pre;overflow-x:auto;line-height:normal;font-family:Menlo,'DejaVu Sans Mono',consolas,'Courier New',monospace\"></pre>\n"
      ],
      "text/plain": []
     },
     "metadata": {},
     "output_type": "display_data"
    },
    {
     "data": {
      "text/html": [
       "<pre style=\"white-space:pre;overflow-x:auto;line-height:normal;font-family:Menlo,'DejaVu Sans Mono',consolas,'Courier New',monospace\">Scrolled <span style=\"color: #008080; text-decoration-color: #008080; font-weight: bold\">5</span> lines of logs.\n",
       "</pre>\n"
      ],
      "text/plain": [
       "Scrolled \u001b[1;36m5\u001b[0m lines of logs.\n"
      ]
     },
     "metadata": {},
     "output_type": "display_data"
    }
   ],
   "source": [
    "await run.show_logs()"
   ]
  },
  {
   "cell_type": "code",
   "execution_count": 45,
   "id": "a4dcbf99-efa0-4c9a-a249-b2dc1653979b",
   "metadata": {},
   "outputs": [
    {
     "data": {
      "text/plain": [
       "RunDetails(\n",
       "    labels='',\n",
       "    annotations='',\n",
       "    env-vars='',\n",
       "    is-interruptible='',\n",
       "    cache-overwrite=False,\n",
       "    name='r9wvncwtz2v42qs6sgv6',\n",
       "    start_time='2025-08-12T19:31:41.367878+00:00',\n",
       "    end_time='2025-08-12T19:32:01+00:00',\n",
       "    run_time='19 secs',\n",
       "    phase='PHASE_SUCCEEDED',\n",
       "    error='NA',\n",
       "    task='env.hello_driver',\n",
       "    task_type='python',\n",
       "    task_version='f22410696164f8d18207430cb695804d',\n",
       "    attempts=[],\n",
       "    error='NA',\n",
       "    phase='PHASE_SUCCEEDED',\n",
       "    group='',\n",
       "    parent=''\n",
       ")"
      ]
     },
     "execution_count": 45,
     "metadata": {},
     "output_type": "execute_result"
    }
   ],
   "source": [
    "run.details()"
   ]
  },
  {
   "cell_type": "code",
   "execution_count": 46,
   "id": "517ebb71-9e8a-4940-9028-435f901a970f",
   "metadata": {},
   "outputs": [],
   "source": [
    "actions = [a.name for a in remote.Action.listall(for_run_name=run.name)]"
   ]
  },
  {
   "cell_type": "code",
   "execution_count": 47,
   "id": "54d281f5-25e2-4e63-8d98-79eaecabfeb4",
   "metadata": {},
   "outputs": [
    {
     "data": {
      "text/plain": [
       "['a0',\n",
       " 'bbnt6kwprld4km8wi753mtvnu',\n",
       " '1u021mxgkx0tsdwtrljvg9no4',\n",
       " '6kklgb0dpm57n65d77cvejyaw',\n",
       " 'l7arn24yjcsfcx3ozqgckfq7',\n",
       " '9sphagvd8vz9lodhviwa4x0a2']"
      ]
     },
     "execution_count": 47,
     "metadata": {},
     "output_type": "execute_result"
    }
   ],
   "source": [
    "actions"
   ]
  },
  {
   "cell_type": "code",
   "execution_count": 54,
   "id": "b60e3965-6ef2-452e-acaa-7ad25f144b0b",
   "metadata": {},
   "outputs": [
    {
     "data": {
      "text/html": [
       "<pre style=\"white-space:pre;overflow-x:auto;line-height:normal;font-family:Menlo,'DejaVu Sans Mono',consolas,'Courier New',monospace\"><span style=\"color: #7f7f7f; text-decoration-color: #7f7f7f\"> hello, my id is: 1 and I am being run by Action: ActionID('bbnt6kwprld4km8wi753mtvnu', </span>\n",
       "<span style=\"color: #7f7f7f; text-decoration-color: #7f7f7f\">run_name='r9wvncwtz2v42qs6sgv6', project='flytesnacks', domain='development', org='demo')</span>\n",
       "</pre>\n"
      ],
      "text/plain": [
       "\u001b[2m hello, my id is: 1 and I am being run by Action: ActionID('bbnt6kwprld4km8wi753mtvnu', \u001b[0m\n",
       "\u001b[2mrun_name='r9wvncwtz2v42qs6sgv6', project='flytesnacks', domain='development', org='demo')\u001b[0m\n"
      ]
     },
     "metadata": {},
     "output_type": "display_data"
    }
   ],
   "source": [
    "await remote.Action.get(run_name=\"r9wvncwtz2v42qs6sgv6\", name=\"bbnt6kwprld4km8wi753mtvnu\").show_logs(raw=True)"
   ]
  },
  {
   "cell_type": "code",
   "execution_count": 55,
   "id": "9b74010d-6c7f-41a7-a4e3-aca458afef4c",
   "metadata": {},
   "outputs": [
    {
     "data": {
      "text/html": [
       "<pre style=\"white-space:pre;overflow-x:auto;line-height:normal;font-family:Menlo,'DejaVu Sans Mono',consolas,'Courier New',monospace\"><span style=\"color: #008080; text-decoration-color: #008080\"> working with id: 1</span>\n",
       "</pre>\n"
      ],
      "text/plain": [
       "\u001b[36m working with id: 1\u001b[0m\n"
      ]
     },
     "metadata": {},
     "output_type": "display_data"
    },
    {
     "data": {
      "text/html": [
       "<pre style=\"white-space:pre;overflow-x:auto;line-height:normal;font-family:Menlo,'DejaVu Sans Mono',consolas,'Courier New',monospace\"><span style=\"color: #008080; text-decoration-color: #008080\"> working with id: 2</span>\n",
       "</pre>\n"
      ],
      "text/plain": [
       "\u001b[36m working with id: 2\u001b[0m\n"
      ]
     },
     "metadata": {},
     "output_type": "display_data"
    },
    {
     "data": {
      "text/html": [
       "<pre style=\"white-space:pre;overflow-x:auto;line-height:normal;font-family:Menlo,'DejaVu Sans Mono',consolas,'Courier New',monospace\"><span style=\"color: #008080; text-decoration-color: #008080\"> working with id: 3</span>\n",
       "</pre>\n"
      ],
      "text/plain": [
       "\u001b[36m working with id: 3\u001b[0m\n"
      ]
     },
     "metadata": {},
     "output_type": "display_data"
    },
    {
     "data": {
      "text/html": [
       "<pre style=\"white-space:pre;overflow-x:auto;line-height:normal;font-family:Menlo,'DejaVu Sans Mono',consolas,'Courier New',monospace\"><span style=\"color: #008080; text-decoration-color: #008080\"> working with id: 4</span>\n",
       "</pre>\n"
      ],
      "text/plain": [
       "\u001b[36m working with id: 4\u001b[0m\n"
      ]
     },
     "metadata": {},
     "output_type": "display_data"
    },
    {
     "data": {
      "text/html": [
       "<pre style=\"white-space:pre;overflow-x:auto;line-height:normal;font-family:Menlo,'DejaVu Sans Mono',consolas,'Courier New',monospace\"><span style=\"color: #008080; text-decoration-color: #008080\"> working with id: 5</span>\n",
       "</pre>\n"
      ],
      "text/plain": [
       "\u001b[36m working with id: 5\u001b[0m\n"
      ]
     },
     "metadata": {},
     "output_type": "display_data"
    },
    {
     "data": {
      "text/html": [
       "<pre style=\"white-space:pre;overflow-x:auto;line-height:normal;font-family:Menlo,'DejaVu Sans Mono',consolas,'Courier New',monospace\"><span style=\"color: #7f7f7f; text-decoration-color: #7f7f7f\"> hello, my id is: 1 and I am being run by Action: ActionID('bbnt6kwprld4km8wi753mtvnu', </span>\n",
       "<span style=\"color: #7f7f7f; text-decoration-color: #7f7f7f\">run_name='r9wvncwtz2v42qs6sgv6', project='flytesnacks', domain='development', org='demo')</span>\n",
       "</pre>\n"
      ],
      "text/plain": [
       "\u001b[2m hello, my id is: 1 and I am being run by Action: ActionID('bbnt6kwprld4km8wi753mtvnu', \u001b[0m\n",
       "\u001b[2mrun_name='r9wvncwtz2v42qs6sgv6', project='flytesnacks', domain='development', org='demo')\u001b[0m\n"
      ]
     },
     "metadata": {},
     "output_type": "display_data"
    },
    {
     "data": {
      "text/html": [
       "<pre style=\"white-space:pre;overflow-x:auto;line-height:normal;font-family:Menlo,'DejaVu Sans Mono',consolas,'Courier New',monospace\"><span style=\"color: #7f7f7f; text-decoration-color: #7f7f7f\"> hello, my id is: 3 and I am being run by Action: ActionID('1u021mxgkx0tsdwtrljvg9no4', </span>\n",
       "<span style=\"color: #7f7f7f; text-decoration-color: #7f7f7f\">run_name='r9wvncwtz2v42qs6sgv6', project='flytesnacks', domain='development', org='demo')</span>\n",
       "</pre>\n"
      ],
      "text/plain": [
       "\u001b[2m hello, my id is: 3 and I am being run by Action: ActionID('1u021mxgkx0tsdwtrljvg9no4', \u001b[0m\n",
       "\u001b[2mrun_name='r9wvncwtz2v42qs6sgv6', project='flytesnacks', domain='development', org='demo')\u001b[0m\n"
      ]
     },
     "metadata": {},
     "output_type": "display_data"
    },
    {
     "data": {
      "text/html": [
       "<pre style=\"white-space:pre;overflow-x:auto;line-height:normal;font-family:Menlo,'DejaVu Sans Mono',consolas,'Courier New',monospace\"><span style=\"color: #7f7f7f; text-decoration-color: #7f7f7f\"> hello, my id is: 2 and I am being run by Action: ActionID('6kklgb0dpm57n65d77cvejyaw', </span>\n",
       "<span style=\"color: #7f7f7f; text-decoration-color: #7f7f7f\">run_name='r9wvncwtz2v42qs6sgv6', project='flytesnacks', domain='development', org='demo')</span>\n",
       "</pre>\n"
      ],
      "text/plain": [
       "\u001b[2m hello, my id is: 2 and I am being run by Action: ActionID('6kklgb0dpm57n65d77cvejyaw', \u001b[0m\n",
       "\u001b[2mrun_name='r9wvncwtz2v42qs6sgv6', project='flytesnacks', domain='development', org='demo')\u001b[0m\n"
      ]
     },
     "metadata": {},
     "output_type": "display_data"
    },
    {
     "data": {
      "text/html": [
       "<pre style=\"white-space:pre;overflow-x:auto;line-height:normal;font-family:Menlo,'DejaVu Sans Mono',consolas,'Courier New',monospace\"><span style=\"color: #7f7f7f; text-decoration-color: #7f7f7f\"> hello, my id is: 4 and I am being run by Action: ActionID('l7arn24yjcsfcx3ozqgckfq7', </span>\n",
       "<span style=\"color: #7f7f7f; text-decoration-color: #7f7f7f\">run_name='r9wvncwtz2v42qs6sgv6', project='flytesnacks', domain='development', org='demo')</span>\n",
       "</pre>\n"
      ],
      "text/plain": [
       "\u001b[2m hello, my id is: 4 and I am being run by Action: ActionID('l7arn24yjcsfcx3ozqgckfq7', \u001b[0m\n",
       "\u001b[2mrun_name='r9wvncwtz2v42qs6sgv6', project='flytesnacks', domain='development', org='demo')\u001b[0m\n"
      ]
     },
     "metadata": {},
     "output_type": "display_data"
    },
    {
     "data": {
      "text/html": [
       "<pre style=\"white-space:pre;overflow-x:auto;line-height:normal;font-family:Menlo,'DejaVu Sans Mono',consolas,'Courier New',monospace\"><span style=\"color: #7f7f7f; text-decoration-color: #7f7f7f\"> hello, my id is: 5 and I am being run by Action: ActionID('9sphagvd8vz9lodhviwa4x0a2', </span>\n",
       "<span style=\"color: #7f7f7f; text-decoration-color: #7f7f7f\">run_name='r9wvncwtz2v42qs6sgv6', project='flytesnacks', domain='development', org='demo')</span>\n",
       "</pre>\n"
      ],
      "text/plain": [
       "\u001b[2m hello, my id is: 5 and I am being run by Action: ActionID('9sphagvd8vz9lodhviwa4x0a2', \u001b[0m\n",
       "\u001b[2mrun_name='r9wvncwtz2v42qs6sgv6', project='flytesnacks', domain='development', org='demo')\u001b[0m\n"
      ]
     },
     "metadata": {},
     "output_type": "display_data"
    }
   ],
   "source": [
    "for action in remote.Action.listall(for_run_name=run.name):\n",
    "    await remote.Action.get(run_name=\"r9wvncwtz2v42qs6sgv6\", name=action.name).show_logs(raw=True)"
   ]
  },
  {
   "cell_type": "code",
   "execution_count": null,
   "id": "41747aa9-3648-4d58-a773-296ff03fa0bb",
   "metadata": {},
   "outputs": [],
   "source": []
  }
 ],
 "metadata": {
  "kernelspec": {
   "display_name": "Python 3 (ipykernel)",
   "language": "python",
   "name": "python3"
  },
  "language_info": {
   "codemirror_mode": {
    "name": "ipython",
    "version": 3
   },
   "file_extension": ".py",
   "mimetype": "text/x-python",
   "name": "python",
   "nbconvert_exporter": "python",
   "pygments_lexer": "ipython3",
   "version": "3.13.0"
  }
 },
 "nbformat": 4,
 "nbformat_minor": 5
}
