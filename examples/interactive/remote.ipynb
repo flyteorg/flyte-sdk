{
 "cells": [
  {
   "cell_type": "markdown",
   "id": "9af3fa50-d1ba-4ee2-901f-9a2831f6b34f",
   "metadata": {},
   "source": [
    "# Native interaction with remote objects\n",
    "\n",
    "Every object is clear, same as cli. Access any data from remote directly in the notebook. Launch remote entities from here as well.\n"
   ]
  },
  {
   "cell_type": "code",
   "execution_count": null,
   "id": "82c78d52-d80c-4999-958e-ee6413dc10e2",
   "metadata": {},
   "outputs": [],
   "source": [
    "import flyte\n",
    "import flyte.remote as remote"
   ]
  },
  {
   "cell_type": "code",
   "execution_count": null,
   "id": "bcc5c511-47db-4220-8622-6e81fc7cbf59",
   "metadata": {},
   "outputs": [],
   "source": [
    "flyte.init_from_config()"
   ]
  },
  {
   "cell_type": "code",
   "execution_count": null,
   "id": "ac3a9867-dcf5-44ae-a886-f312c21d81a8",
   "metadata": {},
   "outputs": [],
   "source": [
    "runs = [x.name for x in remote.Run.listall()]"
   ]
  },
  {
   "cell_type": "code",
   "execution_count": null,
   "id": "542af4d4-29b6-4b5b-80f0-bc98a2714dfb",
   "metadata": {},
   "outputs": [],
   "source": [
    "runs"
   ]
  },
  {
   "cell_type": "code",
   "execution_count": null,
   "id": "4beeeca6-eadd-43bb-bff5-1f3185560ada",
   "metadata": {},
   "outputs": [],
   "source": [
    "r = remote.Run.get(name=runs[-4])"
   ]
  },
  {
   "cell_type": "code",
   "execution_count": null,
   "id": "50cd4650-f4b1-4cc9-9129-ff304583c325",
   "metadata": {},
   "outputs": [],
   "source": [
    "d = r.details()"
   ]
  },
  {
   "cell_type": "code",
   "execution_count": null,
   "id": "918d0fef-0020-4f47-bd1c-50cb92fac534",
   "metadata": {},
   "outputs": [],
   "source": [
    "d.action_details"
   ]
  },
  {
   "cell_type": "code",
   "execution_count": null,
   "id": "737c9e96-0ff3-4546-a480-e90ce38aefaf",
   "metadata": {},
   "outputs": [],
   "source": [
    "o = await d.outputs()"
   ]
  },
  {
   "cell_type": "code",
   "execution_count": null,
   "id": "b7883b83-fc36-4e98-a83f-50a3c186daaa",
   "metadata": {},
   "outputs": [],
   "source": [
    "i = await d.inputs()"
   ]
  },
  {
   "cell_type": "code",
   "execution_count": null,
   "id": "ac202f81-8ac3-4f8f-b2f2-472230af7439",
   "metadata": {},
   "outputs": [],
   "source": [
    "actions = [a.name for a in remote.Action.listall(for_run_name=\"kevin2\")]"
   ]
  },
  {
   "cell_type": "code",
   "execution_count": null,
   "id": "5f49e4be-b4c3-4b1b-87bc-95f8f5acb27a",
   "metadata": {},
   "outputs": [],
   "source": [
    "actions"
   ]
  },
  {
   "cell_type": "code",
   "execution_count": null,
   "id": "6a549855-c358-4681-9222-134b32ce7372",
   "metadata": {},
   "outputs": [],
   "source": [
    "await r.show_logs()"
   ]
  },
  {
   "cell_type": "code",
   "execution_count": null,
   "id": "065b2cbc-c477-4e6d-824d-367696fac1c5",
   "metadata": {},
   "outputs": [],
   "source": [
    "r = remote.Run.get(\"x99hf6q7xwsxqhj8nvwt\")"
   ]
  }
 ],
 "metadata": {
  "kernelspec": {
   "display_name": "Python 3 (ipykernel)",
   "language": "python",
   "name": "python3"
  },
  "language_info": {
   "codemirror_mode": {
    "name": "ipython",
    "version": 3
   },
   "file_extension": ".py",
   "mimetype": "text/x-python",
   "name": "python",
   "nbconvert_exporter": "python",
   "pygments_lexer": "ipython3",
   "version": "3.13.0"
  }
 },
 "nbformat": 4,
 "nbformat_minor": 5
}
