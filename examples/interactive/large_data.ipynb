{
 "cells": [
  {
   "cell_type": "code",
   "execution_count": 3,
   "id": "6d840246-ca41-468a-a269-1101eb4c6401",
   "metadata": {},
   "outputs": [],
   "source": [
    "import flyte\n",
    "import flyte.git\n",
    "import flyte.storage"
   ]
  },
  {
   "cell_type": "code",
   "execution_count": 4,
   "id": "fc7c9e52-e7f5-40b4-ad53-beb1fd33642b",
   "metadata": {},
   "outputs": [],
   "source": [
    "flyte.init_from_config(flyte.git.config_from_root(), storage=flyte.storage.S3.auto(region=\"us-east-2\"))"
   ]
  },
  {
   "cell_type": "code",
   "execution_count": 5,
   "id": "9542726b-4a46-45fc-a287-7851061e0508",
   "metadata": {},
   "outputs": [],
   "source": [
    "env = flyte.TaskEnvironment(name=\"pd_data\", image=flyte.Image.from_debian_base().with_pip_packages(\"pandas\", \"pyarrow\"))"
   ]
  },
  {
   "cell_type": "code",
   "execution_count": 6,
   "id": "18792011-c1d3-4e29-a6aa-b78ab04e107a",
   "metadata": {},
   "outputs": [],
   "source": [
    "import pandas as pd\n",
    "\n",
    "BASIC_EMPLOYEE_DATA = {\n",
    "    \"employee_id\": range(1001, 1009),\n",
    "    \"name\": [\"Alice\", \"Bob\", \"Charlie\", \"Diana\", \"Ethan\", \"Fiona\", \"George\", \"Hannah\"],\n",
    "    \"department\": [\"HR\", \"Engineering\", \"Engineering\", \"Marketing\", \"Finance\", \"Finance\", \"HR\", \"Engineering\"],\n",
    "    \"hire_date\": pd.to_datetime(\n",
    "        [\"2018-01-15\", \"2019-03-22\", \"2020-07-10\", \"2017-11-01\", \"2021-06-05\", \"2018-09-13\", \"2022-01-07\", \"2020-12-30\"]\n",
    "    ),\n",
    "}"
   ]
  },
  {
   "cell_type": "code",
   "execution_count": 7,
   "id": "f47457e4-0a9f-4fca-abc9-c4777293cb66",
   "metadata": {},
   "outputs": [],
   "source": [
    "@env.task\n",
    "async def create_raw_dataframe() -> pd.DataFrame:\n",
    "    \"\"\"\n",
    "    This task creates a raw pandas DataFrame with basic employee information.\n",
    "    This is the most basic use-case of how to pass dataframes (of all kinds, not just pandas). Create the dataframe\n",
    "    as normal, and return it. Note that the output signature is of the dataframe library type.\n",
    "    Uploading of the actual bits of the dataframe (which for pandas is serialized to parquet) happens at the\n",
    "    end of the task, the TypeEngine uploads from memory to blob store.\n",
    "    \"\"\"\n",
    "    return pd.DataFrame(BASIC_EMPLOYEE_DATA)"
   ]
  },
  {
   "cell_type": "code",
   "execution_count": 8,
   "id": "420fa65e-607e-4ec5-a572-e9a0c3f16b9e",
   "metadata": {},
   "outputs": [
    {
     "data": {
      "text/html": [
       "<pre style=\"white-space:pre;overflow-x:auto;line-height:normal;font-family:Menlo,'DejaVu Sans Mono',consolas,'Courier New',monospace\"><span style=\"color: #7fbfbf; text-decoration-color: #7fbfbf\">16:12:15.017844 </span><span style=\"color: #808000; text-decoration-color: #808000\">WARNING </span> remote_builder.py:86 -  <span style=\"color: #000080; text-decoration-color: #000080\">Image 356633062068.dkr.ecr.us-east-2.amazonaws.com/union/demo:flyte-5415240d92c36ab6a384a8ce6884c49c found. </span>   \n",
       "<span style=\"color: #7fbfbf; text-decoration-color: #7fbfbf\">                </span>         <span style=\"color: #000080; text-decoration-color: #000080\">Skip building.</span>                                                                                                                         \n",
       "</pre>\n"
      ],
      "text/plain": [
       "\u001b[2;36m16:12:15.017844\u001b[0m\u001b[2;36m \u001b[0m\u001b[33mWARNING \u001b[0m remote_builder.py:86 -  \u001b[34mImage 356633062068.dkr.ecr.us-east-2.amazonaws.com/union/demo:flyte-5415240d92c36ab6a384a8ce6884c49c found. \u001b[0m   \n",
       "\u001b[2;36m                \u001b[0m         \u001b[34mSkip building.\u001b[0m                                                                                                                         \n"
      ]
     },
     "metadata": {},
     "output_type": "display_data"
    },
    {
     "data": {
      "text/html": [
       "<pre style=\"white-space:pre;overflow-x:auto;line-height:normal;font-family:Menlo,'DejaVu Sans Mono',consolas,'Courier New',monospace\"><span style=\"color: #7fbfbf; text-decoration-color: #7fbfbf\">16:12:15.029816 </span><span style=\"color: #808000; text-decoration-color: #808000\">WARNING </span> _deploy.py:160 -  Built Image for environment pd_data, image:                                                                          \n",
       "<span style=\"color: #7fbfbf; text-decoration-color: #7fbfbf\">                </span>         356633062068.dkr.ecr.us-east-2.amazonaws.com/union/demo:flyte-5415240d92c36ab6a384a8ce6884c49c                                         \n",
       "</pre>\n"
      ],
      "text/plain": [
       "\u001b[2;36m16:12:15.029816\u001b[0m\u001b[2;36m \u001b[0m\u001b[33mWARNING \u001b[0m _deploy.py:160 -  Built Image for environment pd_data, image:                                                                          \n",
       "\u001b[2;36m                \u001b[0m         356633062068.dkr.ecr.us-east-2.amazonaws.com/union/demo:flyte-5415240d92c36ab6a384a8ce6884c49c                                         \n"
      ]
     },
     "metadata": {},
     "output_type": "display_data"
    }
   ],
   "source": [
    "r = flyte.run(create_raw_dataframe)"
   ]
  },
  {
   "cell_type": "code",
   "execution_count": 9,
   "id": "30d25fef-90e1-4da9-9d67-b788957286d5",
   "metadata": {},
   "outputs": [
    {
     "data": {
      "text/plain": [
       "'https://demo.hosted.unionai.cloud/v2/runs/project/ketan/domain/development/rs8bvvlqq5sx58mm9hkc'"
      ]
     },
     "execution_count": 9,
     "metadata": {},
     "output_type": "execute_result"
    }
   ],
   "source": [
    "r.url"
   ]
  },
  {
   "cell_type": "code",
   "execution_count": 10,
   "id": "8ab4630b-166a-4b1c-99a8-83e291607935",
   "metadata": {},
   "outputs": [
    {
     "data": {
      "application/vnd.jupyter.widget-view+json": {
       "model_id": "d83848b4a96a4bbeae4f46f2bb62502b",
       "version_major": 2,
       "version_minor": 0
      },
      "text/plain": [
       "Output()"
      ]
     },
     "metadata": {},
     "output_type": "display_data"
    },
    {
     "data": {
      "text/html": [
       "<pre style=\"white-space:pre;overflow-x:auto;line-height:normal;font-family:Menlo,'DejaVu Sans Mono',consolas,'Courier New',monospace\"><span style=\"color: #008000; text-decoration-color: #008000; font-weight: bold\">Run </span><span style=\"color: #008000; text-decoration-color: #008000; font-weight: bold\">'rs8bvvlqq5sx58mm9hkc'</span><span style=\"color: #008000; text-decoration-color: #008000; font-weight: bold\"> completed successfully.</span>\n",
       "</pre>\n"
      ],
      "text/plain": [
       "\u001b[1;32mRun \u001b[0m\u001b[1;32m'rs8bvvlqq5sx58mm9hkc'\u001b[0m\u001b[1;32m completed successfully.\u001b[0m\n"
      ]
     },
     "metadata": {},
     "output_type": "display_data"
    },
    {
     "data": {
      "text/html": [
       "<pre style=\"white-space:pre;overflow-x:auto;line-height:normal;font-family:Menlo,'DejaVu Sans Mono',consolas,'Courier New',monospace\"></pre>\n"
      ],
      "text/plain": []
     },
     "metadata": {},
     "output_type": "display_data"
    }
   ],
   "source": [
    "r.wait()"
   ]
  },
  {
   "cell_type": "code",
   "execution_count": 11,
   "id": "ef391e71-8146-4ab0-b455-3857cd17e37c",
   "metadata": {},
   "outputs": [
    {
     "data": {
      "text/plain": [
       "{}"
      ]
     },
     "execution_count": 11,
     "metadata": {},
     "output_type": "execute_result"
    }
   ],
   "source": [
    "r.inputs()"
   ]
  },
  {
   "cell_type": "code",
   "execution_count": 12,
   "id": "23d3274b-7a0b-4e00-817f-35de75b91bc1",
   "metadata": {},
   "outputs": [],
   "source": [
    "outputs = r.outputs()"
   ]
  },
  {
   "cell_type": "code",
   "execution_count": 13,
   "id": "76398a63-e5ff-4eac-8468-a73c65c4e59e",
   "metadata": {},
   "outputs": [
    {
     "data": {
      "text/plain": [
       "literals {\n",
       "  name: \"o0\"\n",
       "  value {\n",
       "    scalar {\n",
       "      structured_dataset {\n",
       "        uri: \"s3://union-oc-production-demo/metadata/v2/demo/ketan/development/rs8bvvlqq5sx58mm9hkc/a0/1/vn/rs8bvvlqq5sx58mm9hkc-a0-0/6d95a13886556901bc810c4c942025b0\"\n",
       "        metadata {\n",
       "          structured_dataset_type {\n",
       "            format: \"parquet\"\n",
       "          }\n",
       "        }\n",
       "      }\n",
       "    }\n",
       "  }\n",
       "}"
      ]
     },
     "execution_count": 13,
     "metadata": {},
     "output_type": "execute_result"
    }
   ],
   "source": [
    "outputs.pb2"
   ]
  },
  {
   "cell_type": "code",
   "execution_count": 14,
   "id": "40083438-56a6-4f5c-8d37-cdefb6857457",
   "metadata": {},
   "outputs": [],
   "source": [
    "df = outputs[0]"
   ]
  },
  {
   "cell_type": "code",
   "execution_count": 15,
   "id": "76cd9b36-b19c-4570-ab48-97b1b4cf5421",
   "metadata": {},
   "outputs": [
    {
     "data": {
      "text/html": [
       "<div>\n",
       "<style scoped>\n",
       "    .dataframe tbody tr th:only-of-type {\n",
       "        vertical-align: middle;\n",
       "    }\n",
       "\n",
       "    .dataframe tbody tr th {\n",
       "        vertical-align: top;\n",
       "    }\n",
       "\n",
       "    .dataframe thead th {\n",
       "        text-align: right;\n",
       "    }\n",
       "</style>\n",
       "<table border=\"1\" class=\"dataframe\">\n",
       "  <thead>\n",
       "    <tr style=\"text-align: right;\">\n",
       "      <th></th>\n",
       "      <th>employee_id</th>\n",
       "      <th>name</th>\n",
       "      <th>department</th>\n",
       "      <th>hire_date</th>\n",
       "    </tr>\n",
       "  </thead>\n",
       "  <tbody>\n",
       "    <tr>\n",
       "      <th>0</th>\n",
       "      <td>1001</td>\n",
       "      <td>Alice</td>\n",
       "      <td>HR</td>\n",
       "      <td>2018-01-15</td>\n",
       "    </tr>\n",
       "    <tr>\n",
       "      <th>1</th>\n",
       "      <td>1002</td>\n",
       "      <td>Bob</td>\n",
       "      <td>Engineering</td>\n",
       "      <td>2019-03-22</td>\n",
       "    </tr>\n",
       "    <tr>\n",
       "      <th>2</th>\n",
       "      <td>1003</td>\n",
       "      <td>Charlie</td>\n",
       "      <td>Engineering</td>\n",
       "      <td>2020-07-10</td>\n",
       "    </tr>\n",
       "    <tr>\n",
       "      <th>3</th>\n",
       "      <td>1004</td>\n",
       "      <td>Diana</td>\n",
       "      <td>Marketing</td>\n",
       "      <td>2017-11-01</td>\n",
       "    </tr>\n",
       "    <tr>\n",
       "      <th>4</th>\n",
       "      <td>1005</td>\n",
       "      <td>Ethan</td>\n",
       "      <td>Finance</td>\n",
       "      <td>2021-06-05</td>\n",
       "    </tr>\n",
       "    <tr>\n",
       "      <th>5</th>\n",
       "      <td>1006</td>\n",
       "      <td>Fiona</td>\n",
       "      <td>Finance</td>\n",
       "      <td>2018-09-13</td>\n",
       "    </tr>\n",
       "    <tr>\n",
       "      <th>6</th>\n",
       "      <td>1007</td>\n",
       "      <td>George</td>\n",
       "      <td>HR</td>\n",
       "      <td>2022-01-07</td>\n",
       "    </tr>\n",
       "    <tr>\n",
       "      <th>7</th>\n",
       "      <td>1008</td>\n",
       "      <td>Hannah</td>\n",
       "      <td>Engineering</td>\n",
       "      <td>2020-12-30</td>\n",
       "    </tr>\n",
       "  </tbody>\n",
       "</table>\n",
       "</div>"
      ],
      "text/plain": [
       "   employee_id     name   department  hire_date\n",
       "0         1001    Alice           HR 2018-01-15\n",
       "1         1002      Bob  Engineering 2019-03-22\n",
       "2         1003  Charlie  Engineering 2020-07-10\n",
       "3         1004    Diana    Marketing 2017-11-01\n",
       "4         1005    Ethan      Finance 2021-06-05\n",
       "5         1006    Fiona      Finance 2018-09-13\n",
       "6         1007   George           HR 2022-01-07\n",
       "7         1008   Hannah  Engineering 2020-12-30"
      ]
     },
     "execution_count": 15,
     "metadata": {},
     "output_type": "execute_result"
    }
   ],
   "source": [
    "await df.open(pd.DataFrame).all()"
   ]
  },
  {
   "cell_type": "code",
   "execution_count": null,
   "id": "87555454-a835-4387-a7a6-362327a87fa9",
   "metadata": {},
   "outputs": [],
   "source": []
  }
 ],
 "metadata": {
  "kernelspec": {
   "display_name": "Python 3 (ipykernel)",
   "language": "python",
   "name": "python3"
  },
  "language_info": {
   "codemirror_mode": {
    "name": "ipython",
    "version": 3
   },
   "file_extension": ".py",
   "mimetype": "text/x-python",
   "name": "python",
   "nbconvert_exporter": "python",
   "pygments_lexer": "ipython3",
   "version": "3.13.0"
  }
 },
 "nbformat": 4,
 "nbformat_minor": 5
}
