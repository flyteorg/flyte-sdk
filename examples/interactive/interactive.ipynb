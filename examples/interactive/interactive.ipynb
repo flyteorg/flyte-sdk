{
 "cells": [
  {
   "cell_type": "markdown",
   "id": "861d880e-ec9a-4f92-9ed9-a4dba4225442",
   "metadata": {},
   "source": [
    "# Notebook based code\n",
    "You can write code in python in the notebook, ship things from the notebook and get respones, outputs, logs.\n",
    "\n",
    "## Flyte v1 notebook challenges\n",
    "1. You cannot run \"nested\" `dynamic` etc in a notebook\n",
    "2. Seeing logs, retrieving information and identifying information is hard\n",
    "\n",
    "## Things to note!\n",
    "1. Simple init\n",
    "2. asyncio is native in a notebook\n",
    "3. nested calls square calls hello\n",
    "4. Observe phases\n",
    "5. Observe logs"
   ]
  },
  {
   "cell_type": "code",
   "execution_count": 1,
   "id": "0e2d1a43-d3ef-4fdb-b7e2-019a3210a823",
   "metadata": {
    "ExecuteTime": {
     "end_time": "2025-05-19T21:41:26.372729Z",
     "start_time": "2025-05-19T21:41:26.339157Z"
    }
   },
   "outputs": [],
   "source": [
    "import flyte\n",
    "import flyte.git"
   ]
  },
  {
   "cell_type": "code",
   "execution_count": 2,
   "id": "17fbdfcc5a7085d4",
   "metadata": {},
   "outputs": [],
   "source": [
    "flyte.init_from_config(flyte.git.config_from_root())"
   ]
  },
  {
   "cell_type": "code",
   "execution_count": 3,
   "id": "6ec9d8c91c0cb0fd",
   "metadata": {},
   "outputs": [],
   "source": [
    "env = flyte.TaskEnvironment(\n",
    "    name=\"hello_world\",\n",
    "    image=flyte.Image.from_debian_base(),\n",
    ")"
   ]
  },
  {
   "cell_type": "code",
   "execution_count": 4,
   "id": "c5520b3058f5a1d5",
   "metadata": {},
   "outputs": [],
   "source": [
    "import asyncio\n",
    "from typing import List\n",
    "\n",
    "\n",
    "@env.task\n",
    "async def say_hello(data: str, lt: List[int]) -> str:\n",
    "    print(f\"Hello, world! - {flyte.ctx().action}\")\n",
    "    return f\"Hello {data} {lt}\"\n",
    "\n",
    "\n",
    "@env.task\n",
    "async def square(i: int = 3) -> int:\n",
    "    print(flyte.ctx().action)\n",
    "    return i * i\n",
    "\n",
    "\n",
    "@env.task\n",
    "async def say_hello_nested(data: str = \"default string\") -> str:\n",
    "    print(f\"Hello, nested! - {flyte.ctx().action}\", flush=True)\n",
    "    coros = []\n",
    "    for i in range(3):\n",
    "        print(f\"Enqueuing, Square({i})\", flush=True)\n",
    "        coros.append(square(i=i))\n",
    "\n",
    "    vals = await asyncio.gather(*coros)\n",
    "    print(f\"Completed with vals = {vals}\", flush=True)\n",
    "    return await say_hello(data=data, lt=vals)"
   ]
  },
  {
   "cell_type": "code",
   "execution_count": 5,
   "id": "8bdcdb93-0447-4f7f-895a-b87ff034e5e2",
   "metadata": {
    "ExecuteTime": {
     "end_time": "2025-05-19T21:42:08.373102Z",
     "start_time": "2025-05-19T21:42:08.293015Z"
    }
   },
   "outputs": [
    {
     "data": {
      "text/html": [
       "<pre style=\"white-space:pre;overflow-x:auto;line-height:normal;font-family:Menlo,'DejaVu Sans Mono',consolas,'Courier New',monospace\"><span style=\"color: #7fbfbf; text-decoration-color: #7fbfbf\">15:28:31.238197 </span><span style=\"color: #808000; text-decoration-color: #808000\">WARNING </span> remote_builder.py:86 -  <span style=\"color: #000080; text-decoration-color: #000080\">Image 356633062068.dkr.ecr.us-east-2.amazonaws.com/union/playground:flyte-74d9e119cc0d0868af6ce26d011cbb70 </span>    \n",
       "<span style=\"color: #7fbfbf; text-decoration-color: #7fbfbf\">                </span>         <span style=\"color: #000080; text-decoration-color: #000080\">found. Skip building.</span>                                                                                                                  \n",
       "</pre>\n"
      ],
      "text/plain": [
       "\u001b[2;36m15:28:31.238197\u001b[0m\u001b[2;36m \u001b[0m\u001b[33mWARNING \u001b[0m remote_builder.py:86 -  \u001b[34mImage 356633062068.dkr.ecr.us-east-2.amazonaws.com/union/playground:flyte-74d9e119cc0d0868af6ce26d011cbb70 \u001b[0m    \n",
       "\u001b[2;36m                \u001b[0m         \u001b[34mfound. Skip building.\u001b[0m                                                                                                                  \n"
      ]
     },
     "metadata": {},
     "output_type": "display_data"
    },
    {
     "data": {
      "text/html": [
       "<pre style=\"white-space:pre;overflow-x:auto;line-height:normal;font-family:Menlo,'DejaVu Sans Mono',consolas,'Courier New',monospace\"><span style=\"color: #7fbfbf; text-decoration-color: #7fbfbf\">15:28:31.248424 </span><span style=\"color: #808000; text-decoration-color: #808000\">WARNING </span> _deploy.py:160 -  Built Image for environment hello_world, image:                                                                      \n",
       "<span style=\"color: #7fbfbf; text-decoration-color: #7fbfbf\">                </span>         356633062068.dkr.ecr.us-east-2.amazonaws.com/union/playground:flyte-74d9e119cc0d0868af6ce26d011cbb70                                   \n",
       "</pre>\n"
      ],
      "text/plain": [
       "\u001b[2;36m15:28:31.248424\u001b[0m\u001b[2;36m \u001b[0m\u001b[33mWARNING \u001b[0m _deploy.py:160 -  Built Image for environment hello_world, image:                                                                      \n",
       "\u001b[2;36m                \u001b[0m         356633062068.dkr.ecr.us-east-2.amazonaws.com/union/playground:flyte-74d9e119cc0d0868af6ce26d011cbb70                                   \n"
      ]
     },
     "metadata": {},
     "output_type": "display_data"
    }
   ],
   "source": [
    "run = await flyte.run.aio(say_hello_nested, data=\"jupyter says hello 2!\")"
   ]
  },
  {
   "cell_type": "code",
   "execution_count": 6,
   "id": "b159fe6b-3eed-42ff-b21d-bf702f1ed946",
   "metadata": {},
   "outputs": [
    {
     "data": {
      "text/plain": [
       "'https://playground.canary.unionai.cloud/v2/runs/project/ketan/domain/development/rn9k8bz4gspfkbqglwtx'"
      ]
     },
     "execution_count": 6,
     "metadata": {},
     "output_type": "execute_result"
    }
   ],
   "source": [
    "run.url"
   ]
  },
  {
   "cell_type": "code",
   "execution_count": 7,
   "id": "dcb56486-aed3-4ff0-99de-ab670a81a31b",
   "metadata": {},
   "outputs": [
    {
     "data": {
      "text/plain": [
       "{'data': 'jupyter says hello 2!'}"
      ]
     },
     "execution_count": 7,
     "metadata": {},
     "output_type": "execute_result"
    }
   ],
   "source": [
    "run.inputs()"
   ]
  },
  {
   "cell_type": "code",
   "execution_count": 8,
   "id": "9a3a7993-9aff-41f2-b065-8124c98335ef",
   "metadata": {},
   "outputs": [
    {
     "data": {
      "application/vnd.jupyter.widget-view+json": {
       "model_id": "a9e90f80960c45afa029771d1c9e83fe",
       "version_major": 2,
       "version_minor": 0
      },
      "text/plain": [
       "Output()"
      ]
     },
     "metadata": {},
     "output_type": "display_data"
    },
    {
     "data": {
      "text/html": [
       "<pre style=\"white-space:pre;overflow-x:auto;line-height:normal;font-family:Menlo,'DejaVu Sans Mono',consolas,'Courier New',monospace\"></pre>\n"
      ],
      "text/plain": []
     },
     "metadata": {},
     "output_type": "display_data"
    },
    {
     "data": {
      "text/html": [
       "<pre style=\"white-space:pre;overflow-x:auto;line-height:normal;font-family:Menlo,'DejaVu Sans Mono',consolas,'Courier New',monospace\">Scrolled <span style=\"color: #008080; text-decoration-color: #008080; font-weight: bold\">10</span> lines of logs.\n",
       "</pre>\n"
      ],
      "text/plain": [
       "Scrolled \u001b[1;36m10\u001b[0m lines of logs.\n"
      ]
     },
     "metadata": {},
     "output_type": "display_data"
    }
   ],
   "source": [
    "run.show_logs()"
   ]
  },
  {
   "cell_type": "code",
   "execution_count": 10,
   "id": "1e2adb85-c460-4344-b0a7-470a29d173cd",
   "metadata": {},
   "outputs": [
    {
     "data": {
      "text/plain": [
       "('Hello jupyter says hello 2! [0, 1, 4]',)"
      ]
     },
     "execution_count": 10,
     "metadata": {},
     "output_type": "execute_result"
    }
   ],
   "source": [
    "run.outputs()"
   ]
  },
  {
   "cell_type": "code",
   "execution_count": null,
   "id": "276f4b1c-87a1-44f1-b93f-35baf31abc7a",
   "metadata": {},
   "outputs": [],
   "source": []
  }
 ],
 "metadata": {
  "kernelspec": {
   "display_name": "Python 3 (ipykernel)",
   "language": "python",
   "name": "python3"
  },
  "language_info": {
   "codemirror_mode": {
    "name": "ipython",
    "version": 3
   },
   "file_extension": ".py",
   "mimetype": "text/x-python",
   "name": "python",
   "nbconvert_exporter": "python",
   "pygments_lexer": "ipython3",
   "version": "3.13.0"
  }
 },
 "nbformat": 4,
 "nbformat_minor": 5
}
