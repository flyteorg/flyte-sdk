{
 "cells": [
  {
   "cell_type": "markdown",
   "id": "861d880e-ec9a-4f92-9ed9-a4dba4225442",
   "metadata": {},
   "source": [
    "# Notebook based code\n",
    "You can write code in python in the notebook, ship things from the notebook and get respones, outputs, logs.\n",
    "\n",
    "## Flyte v1 notebook challenges\n",
    "1. You cannot run \"nested\" `dynamic` etc in a notebook\n",
    "2. Seeing logs, retrieving information and identifying information is hard\n",
    "\n",
    "## Things to note!\n",
    "1. Simple init\n",
    "2. asyncio is native in a notebook\n",
    "3. nested calls square calls hello\n",
    "4. Observe phases\n",
    "5. Observe logs"
   ]
  },
  {
   "cell_type": "code",
   "execution_count": null,
   "id": "0e2d1a43-d3ef-4fdb-b7e2-019a3210a823",
   "metadata": {
    "ExecuteTime": {
     "end_time": "2025-05-19T21:41:26.372729Z",
     "start_time": "2025-05-19T21:41:26.339157Z"
    }
   },
   "outputs": [],
   "source": [
    "import flyte"
   ]
  },
  {
   "cell_type": "code",
   "execution_count": null,
   "id": "17fbdfcc5a7085d4",
   "metadata": {},
   "outputs": [],
   "source": [
    "flyte.init_from_config()"
   ]
  },
  {
   "cell_type": "code",
   "execution_count": null,
   "id": "6ec9d8c91c0cb0fd",
   "metadata": {},
   "outputs": [],
   "source": [
    "env = flyte.TaskEnvironment(\n",
    "    name=\"hello_world\",\n",
    "    image=flyte.Image.from_debian_base(),\n",
    ")"
   ]
  },
  {
   "cell_type": "code",
   "execution_count": null,
   "id": "c5520b3058f5a1d5",
   "metadata": {},
   "outputs": [],
   "source": [
    "import asyncio\n",
    "from typing import List\n",
    "\n",
    "\n",
    "@env.task\n",
    "async def say_hello(data: str, lt: List[int]) -> str:\n",
    "    print(f\"Hello, world! - {flyte.ctx().action}\")\n",
    "    return f\"Hello {data} {lt}\"\n",
    "\n",
    "\n",
    "@env.task\n",
    "async def square(i: int = 3) -> int:\n",
    "    print(flyte.ctx().action)\n",
    "    return i * i\n",
    "\n",
    "\n",
    "@env.task\n",
    "async def say_hello_nested(data: str = \"default string\") -> str:\n",
    "    print(f\"Hello, nested! - {flyte.ctx().action}\", flush=True)\n",
    "    coros = []\n",
    "    for i in range(3):\n",
    "        print(f\"Enqueuing, Square({i})\", flush=True)\n",
    "        coros.append(square(i=i))\n",
    "\n",
    "    vals = await asyncio.gather(*coros)\n",
    "    print(f\"Completed with vals = {vals}\", flush=True)\n",
    "    return await say_hello(data=data, lt=vals)"
   ]
  },
  {
   "cell_type": "code",
   "execution_count": null,
   "id": "8bdcdb93-0447-4f7f-895a-b87ff034e5e2",
   "metadata": {
    "ExecuteTime": {
     "end_time": "2025-05-19T21:42:08.373102Z",
     "start_time": "2025-05-19T21:42:08.293015Z"
    }
   },
   "outputs": [],
   "source": [
    "run = await flyte.run.aio(say_hello_nested, data=\"jupyter says hello 2!\")"
   ]
  },
  {
   "cell_type": "code",
   "execution_count": null,
   "id": "b159fe6b-3eed-42ff-b21d-bf702f1ed946",
   "metadata": {},
   "outputs": [],
   "source": [
    "run.url"
   ]
  },
  {
   "cell_type": "code",
   "execution_count": null,
   "id": "9a3a7993-9aff-41f2-b065-8124c98335ef",
   "metadata": {},
   "outputs": [],
   "source": [
    "await run.show_logs()"
   ]
  },
  {
   "cell_type": "code",
   "execution_count": null,
   "id": "1e2adb85-c460-4344-b0a7-470a29d173cd",
   "metadata": {},
   "outputs": [],
   "source": [
    "run.name"
   ]
  },
  {
   "cell_type": "code",
   "execution_count": null,
   "id": "dd2e7c45-3a6f-4050-844f-5175c831f8d1",
   "metadata": {},
   "outputs": [],
   "source": []
  }
 ],
 "metadata": {
  "kernelspec": {
   "display_name": ".venv",
   "language": "python",
   "name": "python3"
  },
  "language_info": {
   "codemirror_mode": {
    "name": "ipython",
    "version": 3
   },
   "file_extension": ".py",
   "mimetype": "text/x-python",
   "name": "python",
   "nbconvert_exporter": "python",
   "pygments_lexer": "ipython3",
   "version": "3.13.0"
  }
 },
 "nbformat": 4,
 "nbformat_minor": 5
}
